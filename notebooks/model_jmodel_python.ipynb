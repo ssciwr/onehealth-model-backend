{
 "cells": [
  {
   "cell_type": "markdown",
   "id": "0",
   "metadata": {},
   "source": [
    "[//]: # (------------------------------------------    DO NOT MODIFY THIS    ------------------------------------------)\n",
    "<style type=\"text/css\">\n",
    ".tg  {border-collapse:collapse;\n",
    "      border-spacing:0;\n",
    "     }\n",
    ".tg td{border-color:black;\n",
    "       border-style:solid;\n",
    "       border-width:1px;\n",
    "       font-family:Arial, sans-serif;\n",
    "       font-size:14px;\n",
    "       overflow:hidden;\n",
    "       padding:10px 5px;\n",
    "       word-break:normal;\n",
    "      }\n",
    ".tg th{border-color:black;\n",
    "       border-style:solid;\n",
    "       border-width:1px;\n",
    "       font-family:Arial, sans-serif;\n",
    "       font-size:14px;\n",
    "       font-weight:normal;\n",
    "       overflow:hidden;\n",
    "       padding:10px 5px;\n",
    "       word-break:normal;\n",
    "      }\n",
    ".tg .tg-fymr{border-color:inherit;\n",
    "             font-weight:bold;\n",
    "             text-align:left;\n",
    "             vertical-align:top\n",
    "            }\n",
    ".tg .tg-0pky{border-color:inherit;\n",
    "             text-align:left;\n",
    "             vertical-align:top\n",
    "            }\n",
    "[//]: # (--------------------------------------------------------------------------------------------------------------)\n",
    "\n",
    "[//]: # (-------------------------------------    FILL THIS OUT WITH YOUR DATA    -------------------------------------)\n",
    "</style>\n",
    "<table class=\"tg\">\n",
    "    <tbody>\n",
    "      <tr>\n",
    "        <td class=\"tg-fymr\" style=\"font-weight: bold\">Title:</td>\n",
    "        <td class=\"tg-0pky\">Notebook for model demonstrations - heiplanet Platform project</td>\n",
    "      </tr>\n",
    "      <tr>\n",
    "        <td class=\"tg-fymr\" style=\"font-weight: bold\">Authors:</td>\n",
    "        <td class=\"tg-0pky\">\n",
    "            <a href=\"https://github.com/ecarrenolozano\" target=\"_blank\" rel=\"noopener noreferrer\">Edwin Carreño</a>,\n",
    "            <a href=\"\" target=\"_blank\" rel=\"noopener noreferrer\">Inga Ulusoy</a>,\n",
    "            <a href=\"\" target=\"_blank\" rel=\"noopener noreferrer\">Harald Mack</a>\n",
    "        </td>\n",
    "      </tr>\n",
    "      <tr>\n",
    "        <td class=\"tg-fymr\" style=\"font-weight: bold\">Affiliations:</td>\n",
    "        <td class=\"tg-0pky\">\n",
    "            <a href=\"https://www.ssc.uni-heidelberg.de/en\" target=\"_blank\" rel=\"noopener noreferrer\">Scientific Software Center</a>\n",
    "        </td>\n",
    "      </tr>\n",
    "      <tr>\n",
    "        <td class=\"tg-fymr\" style=\"font-weight: bold\">Date Created:</td>\n",
    "        <td class=\"tg-0pky\">10th June, 2025</td>\n",
    "      </tr>\n",
    "      <tr>\n",
    "        <td class=\"tg-fymr\" style=\"font-weight: bold\">Description:</td>\n",
    "        <td class=\"tg-0pky\">Notebook for demonstrating the usage of the python implementation of the original R model shown in `model_r.ipynb`</td>\n",
    "      </tr>\n",
    "    </tbody>\n",
    "</table>\n",
    "\n",
    "[//]: # (--------------------------------------------------------------------------------------------------------------)"
   ]
  },
  {
   "cell_type": "code",
   "execution_count": null,
   "id": "1",
   "metadata": {},
   "outputs": [],
   "source": [
    "import heiplanet_models as mb\n",
    "from pathlib import Path\n",
    "import xarray as xr\n",
    "import rioxarray as rioxr\n",
    "import numpy as np\n",
    "from copy import deepcopy\n",
    "from datetime import datetime\n",
    "import json"
   ]
  },
  {
   "cell_type": "markdown",
   "id": "2",
   "metadata": {},
   "source": [
    "# Daily data - August 2024"
   ]
  },
  {
   "cell_type": "markdown",
   "id": "3",
   "metadata": {},
   "source": [
    "## Set up the variables to run the model "
   ]
  },
  {
   "cell_type": "markdown",
   "id": "4",
   "metadata": {},
   "source": [
    "data is assumed to live in a directory: \n",
    "\n",
    "data/in\n",
    "\n",
    "relative to the base directory of the package"
   ]
  },
  {
   "cell_type": "code",
   "execution_count": null,
   "id": "5",
   "metadata": {},
   "outputs": [],
   "source": [
    "path = Path.cwd().parent / \"data\" / \"in\"\n",
    "path"
   ]
  },
  {
   "cell_type": "code",
   "execution_count": null,
   "id": "6",
   "metadata": {},
   "outputs": [],
   "source": [
    "data_file = \"ERA5land_global_t2m_dailyStats_mean_01Deg_2024_08_data.nc\""
   ]
  },
  {
   "cell_type": "code",
   "execution_count": null,
   "id": "7",
   "metadata": {},
   "outputs": [],
   "source": [
    "ro_file = \"R0_pip_stats.csv\""
   ]
  },
  {
   "cell_type": "markdown",
   "id": "8",
   "metadata": {},
   "source": [
    "## make output directory"
   ]
  },
  {
   "cell_type": "code",
   "execution_count": null,
   "id": "9",
   "metadata": {},
   "outputs": [],
   "source": [
    "outpath = Path.cwd().parent / \"data\" / \"out\" / datetime.today().strftime(\"%Y-%m-%d\")\n",
    "outpath.mkdir(parents=True, exist_ok=True)"
   ]
  },
  {
   "cell_type": "markdown",
   "id": "10",
   "metadata": {},
   "source": [
    "## define the model config "
   ]
  },
  {
   "cell_type": "markdown",
   "id": "11",
   "metadata": {},
   "source": [
    "do the following: \n",
    "- read the default config \n"
   ]
  },
  {
   "cell_type": "code",
   "execution_count": null,
   "id": "12",
   "metadata": {},
   "outputs": [],
   "source": [
    "default_config = mb.Jmodel.read_default_config()"
   ]
  },
  {
   "cell_type": "code",
   "execution_count": null,
   "id": "13",
   "metadata": {},
   "outputs": [],
   "source": [
    "default_config"
   ]
  },
  {
   "cell_type": "markdown",
   "id": "14",
   "metadata": {},
   "source": [
    "update the config with anything you might want"
   ]
  },
  {
   "cell_type": "code",
   "execution_count": null,
   "id": "15",
   "metadata": {},
   "outputs": [],
   "source": [
    "config = deepcopy(default_config)\n",
    "config[\"graph\"][\"setup_modeldata\"][\"kwargs\"][\"input\"] = str(path / data_file)\n",
    "config[\"graph\"][\"setup_modeldata\"][\"kwargs\"][\"r0_path\"] = str(path / ro_file)\n",
    "config[\"graph\"][\"setup_modeldata\"][\"kwargs\"][\"output\"] = str(\n",
    "    outpath / f\"output_jmodel_europe.nc\"\n",
    ")\n",
    "\n",
    "with open(outpath / \"config_europe.json\", \"w\") as f:\n",
    "    json.dump(config, f)"
   ]
  },
  {
   "cell_type": "code",
   "execution_count": null,
   "id": "16",
   "metadata": {},
   "outputs": [],
   "source": [
    "computation = mb.computation_graph.ComputationGraph(config)"
   ]
  },
  {
   "cell_type": "code",
   "execution_count": null,
   "id": "17",
   "metadata": {},
   "outputs": [],
   "source": [
    "computation.visualize(outpath / \"computation_jmodel.png\")"
   ]
  },
  {
   "cell_type": "markdown",
   "id": "18",
   "metadata": {},
   "source": [
    "## Run model -> load data -> apply model transformations -> save back to netcdf"
   ]
  },
  {
   "cell_type": "code",
   "execution_count": null,
   "id": "19",
   "metadata": {},
   "outputs": [],
   "source": [
    "computation.execute()"
   ]
  },
  {
   "cell_type": "code",
   "execution_count": null,
   "id": "20",
   "metadata": {},
   "outputs": [],
   "source": [
    "data = xr.open_dataset(path / data_file, chunks=None)\n",
    "data"
   ]
  },
  {
   "cell_type": "markdown",
   "id": "21",
   "metadata": {},
   "source": [
    "access individual nodes via the task graph"
   ]
  },
  {
   "cell_type": "code",
   "execution_count": null,
   "id": "22",
   "metadata": {},
   "outputs": [],
   "source": [
    "input = computation.task_graph[\"read_input_data\"].compute()"
   ]
  },
  {
   "cell_type": "code",
   "execution_count": null,
   "id": "23",
   "metadata": {},
   "outputs": [],
   "source": [
    "input[\"t2m\"].mean(dim=\"valid_time\").plot(cmap=\"viridis\")"
   ]
  },
  {
   "cell_type": "code",
   "execution_count": null,
   "id": "24",
   "metadata": {},
   "outputs": [],
   "source": [
    "input[\"t2m\"].sel(valid_time=\"2024-08-01\").plot(cmap=\"viridis\")"
   ]
  },
  {
   "cell_type": "markdown",
   "id": "25",
   "metadata": {},
   "source": [
    "## Have a look at produced data"
   ]
  },
  {
   "cell_type": "code",
   "execution_count": null,
   "id": "26",
   "metadata": {},
   "outputs": [],
   "source": [
    "data = xr.open_dataset(outpath / \"output_jmodel_europe.nc\", engine=\"rasterio\")"
   ]
  },
  {
   "cell_type": "code",
   "execution_count": null,
   "id": "27",
   "metadata": {},
   "outputs": [],
   "source": [
    "data"
   ]
  },
  {
   "cell_type": "code",
   "execution_count": null,
   "id": "28",
   "metadata": {},
   "outputs": [],
   "source": [
    "data[\"R0\"].mean(dim=\"valid_time\").plot(cmap=\"viridis\")"
   ]
  },
  {
   "cell_type": "code",
   "execution_count": null,
   "id": "29",
   "metadata": {},
   "outputs": [],
   "source": [
    "data[\"R0\"].sel(valid_time=\"2024-08-01\").plot(cmap=\"viridis\")"
   ]
  },
  {
   "cell_type": "markdown",
   "id": "30",
   "metadata": {},
   "source": [
    "## Run model with parallel run mode on a global scale"
   ]
  },
  {
   "cell_type": "code",
   "execution_count": null,
   "id": "31",
   "metadata": {},
   "outputs": [],
   "source": [
    "output = outpath / \"output_JModel_global.nc\"\n",
    "run_mode = \"parallelized\"\n",
    "grid_data_baseurl = None\n",
    "nuts_level = None\n",
    "resolution = None\n",
    "year = None\n",
    "global_config = deepcopy(default_config)\n",
    "global_config[\"graph\"][\"setup_modeldata\"][\"kwargs\"][\"input\"] = str(path / data_file)\n",
    "global_config[\"graph\"][\"setup_modeldata\"][\"kwargs\"][\"r0_path\"] = str(path / ro_file)\n",
    "global_config[\"graph\"][\"setup_modeldata\"][\"kwargs\"][\"output\"] = str(output)\n",
    "global_config[\"graph\"][\"setup_modeldata\"][\"kwargs\"][\"run_mode\"] = run_mode\n",
    "global_config[\"graph\"][\"setup_modeldata\"][\"kwargs\"][\"grid_data_baseurl\"] = (\n",
    "    grid_data_baseurl\n",
    ")\n",
    "global_config[\"graph\"][\"setup_modeldata\"][\"kwargs\"][\"nuts_level\"] = nuts_level\n",
    "global_config[\"graph\"][\"setup_modeldata\"][\"kwargs\"][\"resolution\"] = resolution\n",
    "global_config[\"graph\"][\"setup_modeldata\"][\"kwargs\"][\"year\"] = year"
   ]
  },
  {
   "cell_type": "code",
   "execution_count": null,
   "id": "32",
   "metadata": {},
   "outputs": [],
   "source": [
    "global_config"
   ]
  },
  {
   "cell_type": "code",
   "execution_count": null,
   "id": "33",
   "metadata": {},
   "outputs": [],
   "source": [
    "with open(outpath / \"config_global.json\", \"w\") as f:\n",
    "    json.dump(config, f)"
   ]
  },
  {
   "cell_type": "code",
   "execution_count": null,
   "id": "34",
   "metadata": {},
   "outputs": [],
   "source": [
    "computation_global = mb.computation_graph.ComputationGraph(global_config)"
   ]
  },
  {
   "cell_type": "code",
   "execution_count": null,
   "id": "35",
   "metadata": {},
   "outputs": [],
   "source": [
    "computation_global.execute()"
   ]
  },
  {
   "cell_type": "code",
   "execution_count": null,
   "id": "36",
   "metadata": {},
   "outputs": [],
   "source": [
    "input = computation_global.task_graph[\"read_input_data\"].compute()"
   ]
  },
  {
   "cell_type": "code",
   "execution_count": null,
   "id": "37",
   "metadata": {},
   "outputs": [],
   "source": [
    "input[\"t2m\"].mean(dim=\"valid_time\").plot(cmap=\"viridis\")"
   ]
  },
  {
   "cell_type": "code",
   "execution_count": null,
   "id": "38",
   "metadata": {},
   "outputs": [],
   "source": [
    "data = xr.open_dataset(output, engine=\"rasterio\", chunks=None).compute()"
   ]
  },
  {
   "cell_type": "code",
   "execution_count": null,
   "id": "39",
   "metadata": {},
   "outputs": [],
   "source": [
    "data[\"R0\"].mean(dim=\"valid_time\").plot(cmap=\"viridis\")"
   ]
  },
  {
   "cell_type": "code",
   "execution_count": null,
   "id": "40",
   "metadata": {},
   "outputs": [],
   "source": [
    "data[\"R0\"].sel(valid_time=\"2024-08-01\").plot(cmap=\"viridis\")"
   ]
  },
  {
   "cell_type": "markdown",
   "id": "41",
   "metadata": {},
   "source": [
    "# Monthly data"
   ]
  },
  {
   "cell_type": "markdown",
   "id": "42",
   "metadata": {},
   "source": [
    "## Build new model instance "
   ]
  },
  {
   "cell_type": "code",
   "execution_count": null,
   "id": "43",
   "metadata": {},
   "outputs": [],
   "source": [
    "data_file = (\n",
    "    \"era5_data_2024_01_02_03_2t_tp_monthly_celsius_mm_resampled_05degree_trim.nc\"\n",
    ")"
   ]
  },
  {
   "cell_type": "code",
   "execution_count": null,
   "id": "44",
   "metadata": {},
   "outputs": [],
   "source": [
    "output = outpath / \"output_JModel_monthly.nc\"\n",
    "monthly_config = deepcopy(default_config)\n",
    "monthly_config[\"graph\"][\"setup_modeldata\"][\"kwargs\"][\"input\"] = str(path / data_file)\n",
    "monthly_config[\"graph\"][\"setup_modeldata\"][\"kwargs\"][\"output\"] = str(output)\n",
    "monthly_config[\"graph\"][\"setup_modeldata\"][\"kwargs\"][\"r0_path\"] = str(path / ro_file)\n",
    "monthly_config[\"graph\"][\"setup_modeldata\"][\"kwargs\"][\"grid_data_baseurl\"] = (\n",
    "    \"https://gisco-services.ec.europa.eu/distribution/v2/nuts\"\n",
    ")"
   ]
  },
  {
   "cell_type": "code",
   "execution_count": null,
   "id": "45",
   "metadata": {},
   "outputs": [],
   "source": [
    "with open(outpath / \"config_monthly.json\", \"w\") as f:\n",
    "    json.dump(config, f)"
   ]
  },
  {
   "cell_type": "code",
   "execution_count": null,
   "id": "46",
   "metadata": {},
   "outputs": [],
   "source": [
    "computation = mb.computation_graph.ComputationGraph(config=monthly_config)"
   ]
  },
  {
   "cell_type": "code",
   "execution_count": null,
   "id": "47",
   "metadata": {},
   "outputs": [],
   "source": [
    "computation.execute()"
   ]
  },
  {
   "cell_type": "code",
   "execution_count": null,
   "id": "48",
   "metadata": {},
   "outputs": [],
   "source": [
    "data = computation.task_graph[\"read_input_data\"].compute()\n",
    "data"
   ]
  },
  {
   "cell_type": "code",
   "execution_count": null,
   "id": "49",
   "metadata": {},
   "outputs": [],
   "source": [
    "data[\"t2m\"].mean(dim=\"time\").plot(cmap=\"viridis\")"
   ]
  },
  {
   "cell_type": "code",
   "execution_count": null,
   "id": "50",
   "metadata": {},
   "outputs": [],
   "source": [
    "data[\"t2m\"].sel(time=\"2024-01-01\").plot(cmap=\"viridis\")"
   ]
  },
  {
   "cell_type": "code",
   "execution_count": null,
   "id": "51",
   "metadata": {},
   "outputs": [],
   "source": [
    "data = xr.open_dataset(\n",
    "    monthly_config[\"graph\"][\"setup_modeldata\"][\"kwargs\"][\"output\"],\n",
    "    engine=\"rasterio\",\n",
    "    chunks=None,\n",
    ").compute()"
   ]
  },
  {
   "cell_type": "code",
   "execution_count": null,
   "id": "52",
   "metadata": {},
   "outputs": [],
   "source": [
    "data[\"R0\"].mean(dim=\"time\").plot(cmap=\"viridis\")"
   ]
  },
  {
   "cell_type": "markdown",
   "id": "53",
   "metadata": {},
   "source": [
    "since it's always summer in French Guiana by comparison, we have high transmissivity there, but literally nothing in europe where it's cold. "
   ]
  },
  {
   "cell_type": "code",
   "execution_count": null,
   "id": "54",
   "metadata": {},
   "outputs": [],
   "source": [
    "data[\"R0\"].sel(time=\"2024-01-01\").plot(cmap=\"viridis\")"
   ]
  },
  {
   "cell_type": "code",
   "execution_count": null,
   "id": "55",
   "metadata": {},
   "outputs": [],
   "source": []
  }
 ],
 "metadata": {
  "kernelspec": {
   "display_name": ".venv",
   "language": "python",
   "name": "python3"
  },
  "language_info": {
   "codemirror_mode": {
    "name": "ipython",
    "version": 3
   },
   "file_extension": ".py",
   "mimetype": "text/x-python",
   "name": "python",
   "nbconvert_exporter": "python",
   "pygments_lexer": "ipython3",
   "version": "3.12.3"
  }
 },
 "nbformat": 4,
 "nbformat_minor": 5
}
