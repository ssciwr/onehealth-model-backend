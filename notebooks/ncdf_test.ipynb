{
 "cells": [
  {
   "cell_type": "code",
   "execution_count": null,
   "id": "85ab98d5",
   "metadata": {},
   "outputs": [],
   "source": [
    "import dask.array as da\n",
    "import numpy as np\n",
    "import xarray as xr\n",
    "import geopandas as gpd\n",
    "import json\n"
   ]
  },
  {
   "cell_type": "markdown",
   "id": "3045bdc2",
   "metadata": {},
   "source": [
    "## work with some json stuff here. "
   ]
  },
  {
   "cell_type": "code",
   "execution_count": null,
   "id": "134cde4c",
   "metadata": {},
   "outputs": [],
   "source": []
  },
  {
   "cell_type": "code",
   "execution_count": null,
   "id": "7600df3e",
   "metadata": {},
   "outputs": [],
   "source": [
    "path_to_input = None # Replace with the path to your input file"
   ]
  },
  {
   "cell_type": "code",
   "execution_count": null,
   "id": "9164dd57",
   "metadata": {},
   "outputs": [],
   "source": [
    "dataset = xr.open_dataset(\n",
    "            path_to_input,\n",
    "            engine=\"netcdf4\",\n",
    "            decode_times=True,\n",
    "            decode_coords=True,\n",
    "            chunks= 'auto'\n",
    "        )"
   ]
  },
  {
   "cell_type": "code",
   "execution_count": null,
   "id": "71a6bc10",
   "metadata": {},
   "outputs": [],
   "source": [
    "dataset"
   ]
  },
  {
   "cell_type": "code",
   "execution_count": null,
   "id": "d39a994f",
   "metadata": {},
   "outputs": [],
   "source": [
    "df = dataset.to_dataframe()"
   ]
  },
  {
   "cell_type": "code",
   "execution_count": null,
   "id": "e89c7df0",
   "metadata": {},
   "outputs": [],
   "source": [
    "gpd.GeoDataFrame(df)"
   ]
  },
  {
   "cell_type": "code",
   "execution_count": null,
   "id": "736ba5f5",
   "metadata": {},
   "outputs": [],
   "source": [
    "path_to_output = None"
   ]
  },
  {
   "cell_type": "code",
   "execution_count": null,
   "id": "d9a10c9c",
   "metadata": {},
   "outputs": [],
   "source": [
    "xr.Dataset.to_netcdf(\n",
    "dataset,\n",
    "path_to_output,\n",
    "format=\"NETCDF4\",\n",
    ")"
   ]
  },
  {
   "cell_type": "code",
   "execution_count": null,
   "id": "187c52d7",
   "metadata": {},
   "outputs": [],
   "source": []
  }
 ],
 "metadata": {
  "kernelspec": {
   "display_name": ".venv",
   "language": "python",
   "name": "python3"
  },
  "language_info": {
   "codemirror_mode": {
    "name": "ipython",
    "version": 3
   },
   "file_extension": ".py",
   "mimetype": "text/x-python",
   "name": "python",
   "nbconvert_exporter": "python",
   "pygments_lexer": "ipython3",
   "version": "3.13.4"
  }
 },
 "nbformat": 4,
 "nbformat_minor": 5
}
