{
 "cells": [
  {
   "cell_type": "markdown",
   "id": "0",
   "metadata": {},
   "source": [
    "# calculations"
   ]
  },
  {
   "cell_type": "code",
   "execution_count": null,
   "id": "1",
   "metadata": {
    "vscode": {
     "languageId": "r"
    }
   },
   "outputs": [],
   "source": [
    "library(terra)\n",
    "library(parallel)\n",
    "library(sf)\n",
    "library(eurostat)\n",
    "library(ggplot2)\n",
    "library(tidyterra)  # Converts terra objects for ggplot\n"
   ]
  },
  {
   "cell_type": "code",
   "execution_count": null,
   "id": "2",
   "metadata": {
    "vscode": {
     "languageId": "r"
    }
   },
   "outputs": [],
   "source": [
    "path <- \"../data/in\""
   ]
  },
  {
   "cell_type": "code",
   "execution_count": null,
   "id": "3",
   "metadata": {
    "vscode": {
     "languageId": "r"
    }
   },
   "outputs": [],
   "source": [
    "df_R0_Cpip_post <- read.csv(file.path(\"..\", \"data\", \"in\", \"R0_pip_stats.csv\"))\n"
   ]
  },
  {
   "cell_type": "code",
   "execution_count": null,
   "id": "4",
   "metadata": {
    "vscode": {
     "languageId": "r"
    }
   },
   "outputs": [],
   "source": [
    "summary(df_R0_Cpip_post)"
   ]
  },
  {
   "cell_type": "markdown",
   "id": "5",
   "metadata": {
    "vscode": {
     "languageId": "r"
    }
   },
   "source": [
    "# load R0 pipiens posterior stats\n"
   ]
  },
  {
   "cell_type": "code",
   "execution_count": null,
   "id": "6",
   "metadata": {
    "vscode": {
     "languageId": "r"
    }
   },
   "outputs": [],
   "source": [
    "#temperature values at which statistics where derived\n",
    "temps <- seq(0, 45, by = 0.1)\n",
    "temps"
   ]
  },
  {
   "cell_type": "code",
   "execution_count": null,
   "id": "7",
   "metadata": {
    "vscode": {
     "languageId": "r"
    }
   },
   "outputs": [],
   "source": [
    "# Prebuild interpolation function\n",
    "interp_fun <- approxfun(x = temps, y = df_R0_Cpip_post$Median_R0, \n",
    "                        method=\"linear\", \n",
    "                        rule = 1)"
   ]
  },
  {
   "cell_type": "code",
   "execution_count": null,
   "id": "8",
   "metadata": {
    "vscode": {
     "languageId": "r"
    }
   },
   "outputs": [],
   "source": [
    "R0_pip_fun <- function(Tm){\n",
    "  \n",
    "  result <- rep(0, length(Tm))\n",
    "  result[is.na(Tm)] <- NA\n",
    "  \n",
    "  valid <- !is.na(Tm) & Tm >= 0 & Tm <= 45\n",
    "  \n",
    "  result[valid] <- interp_fun(Tm[valid])\n",
    "  \n",
    "  return(result)\n",
    "}\n"
   ]
  },
  {
   "cell_type": "code",
   "execution_count": null,
   "id": "9",
   "metadata": {
    "vscode": {
     "languageId": "r"
    }
   },
   "outputs": [],
   "source": [
    "eu_nuts3 <- get_eurostat_geospatial(resolution = 10,\n",
    "                                    nuts_level = 3, \n",
    "                                    year = 2024) "
   ]
  },
  {
   "cell_type": "code",
   "execution_count": null,
   "id": "10",
   "metadata": {
    "vscode": {
     "languageId": "r"
    }
   },
   "outputs": [],
   "source": [
    "eu_nuts3"
   ]
  },
  {
   "cell_type": "code",
   "execution_count": null,
   "id": "11",
   "metadata": {
    "vscode": {
     "languageId": "r"
    }
   },
   "outputs": [],
   "source": [
    "out_data = file.path(\"..\", \"data\", \"out\")"
   ]
  },
  {
   "cell_type": "markdown",
   "id": "12",
   "metadata": {},
   "source": [
    "# Daily data "
   ]
  },
  {
   "cell_type": "code",
   "execution_count": null,
   "id": "13",
   "metadata": {
    "vscode": {
     "languageId": "r"
    }
   },
   "outputs": [],
   "source": [
    "year = 2024 \n",
    "month = 8\n",
    "target_file <- paste0(\"ERA5land_global_t2m_dailyStats_mean_01Deg_\",\n",
    "                        year,\n",
    "                        \"_\",\n",
    "                        sprintf(\"%02d\", month),\n",
    "                        \"_data.nc\")\n",
    "target_file <- file.path(path, target_file)\n",
    "r_tmp = terra::rast(target_file)\n",
    "r_tmp\n"
   ]
  },
  {
   "cell_type": "markdown",
   "id": "14",
   "metadata": {},
   "source": [
    "# Use model"
   ]
  },
  {
   "cell_type": "code",
   "execution_count": null,
   "id": "15",
   "metadata": {
    "vscode": {
     "languageId": "r"
    }
   },
   "outputs": [],
   "source": [
    "cl <- makeCluster(16)  \n",
    "# export relevant functions to cluster\n",
    "clusterExport(cl, \n",
    "              list(\"df_R0_Cpip_post\",\n",
    "                   \"R0_pip_fun\", \n",
    "                   \"interp_fun\"\n",
    ")) \n",
    "r_R0 <- NULL\n",
    "map_uncropped <- NULL\n",
    "map_cropped <- NULL\n",
    "\n",
    "for(year in 2024:2024){\n",
    "  \n",
    "  for(month in 8:8){\n",
    "    target_file <- paste0(\"ERA5land_global_t2m_dailyStats_mean_01Deg_\",\n",
    "                          year,\n",
    "                          \"_\",\n",
    "                          sprintf(\"%02d\", month),\n",
    "                          \"_data.nc\")\n",
    "    print(paste(\"month:\", sprintf(\"%02d\", month)))\n",
    "    target_file <- file.path(path, target_file)\n",
    "    # # create spatRaster object\n",
    "    r_tmp = terra::rast(target_file)\n",
    "    map_uncropped <<- r_tmp\n",
    "    \n",
    "    # crop to Europe extent\n",
    "    r_tmp <- terra::crop(r_tmp, eu_nuts3)\n",
    "    map_cropped <<- r_tmp \n",
    "\n",
    "    \n",
    "    # apply R0 transformation\n",
    "    r_R0 <<- app(r_tmp, \n",
    "              fun = R0_pip_fun,\n",
    "              cores = cl)\n",
    "    \n",
    "    # # save output\n",
    "    output_filename = paste0(\"R0_pip_posterior_median_europe_\", year,\"_\", \n",
    "                             sprintf(\"%02d\", month), \".tif\")\n",
    "    output_filename <- file.path(out_data, output_filename)\n",
    "    writeRaster(r_R0, filename = output_filename,\n",
    "                overwrite = TRUE)\n",
    "    \n",
    "    # print(paste(year,month))\n",
    "    print(paste('target_file', target_file))\n",
    "    print(paste('output_file', output_filename))\n",
    "  }\n",
    "}\n",
    "stopCluster(cl)"
   ]
  },
  {
   "cell_type": "markdown",
   "id": "16",
   "metadata": {},
   "source": [
    "# Inspec the results for the daily data"
   ]
  },
  {
   "cell_type": "code",
   "execution_count": null,
   "id": "17",
   "metadata": {
    "vscode": {
     "languageId": "r"
    }
   },
   "outputs": [],
   "source": [
    "r_R0"
   ]
  },
  {
   "cell_type": "code",
   "execution_count": null,
   "id": "18",
   "metadata": {
    "vscode": {
     "languageId": "r"
    }
   },
   "outputs": [],
   "source": [
    "nlyr(r_R0) # n layers in the raster"
   ]
  },
  {
   "cell_type": "code",
   "execution_count": null,
   "id": "19",
   "metadata": {
    "vscode": {
     "languageId": "r"
    }
   },
   "outputs": [],
   "source": [
    "map_uncropped_mean <- app(map_uncropped, fun = mean, na.rm = TRUE)\n",
    "\n",
    "ggplot() +\n",
    "  geom_spatraster(data = map_uncropped_mean) +\n",
    "  scale_fill_viridis_c(name = \"Temp (°C)\", na.value = \"transparent\") +\n",
    "  labs(title = \"Temperature in Europe\",\n",
    "       subtitle = \"August 2024\") +\n",
    "  theme_minimal()"
   ]
  },
  {
   "cell_type": "code",
   "execution_count": null,
   "id": "20",
   "metadata": {
    "vscode": {
     "languageId": "r"
    }
   },
   "outputs": [],
   "source": [
    "map_cropped_mean <- app(map_cropped, fun = mean, na.rm = TRUE)\n",
    "\n",
    "ggplot() +\n",
    "  geom_spatraster(data = map_cropped_mean) +\n",
    "  scale_fill_viridis_c(name = \"Temp (°C)\", na.value = \"transparent\") +\n",
    "  labs(title = \"Temperature in Europe\",\n",
    "       subtitle = \"August 2024\") +\n",
    "  theme_minimal()"
   ]
  },
  {
   "cell_type": "code",
   "execution_count": null,
   "id": "21",
   "metadata": {
    "vscode": {
     "languageId": "r"
    }
   },
   "outputs": [],
   "source": [
    "r_R0_mean <- app(r_R0, fun = mean, na.rm = FALSE) # this does something werid, the values that come out should be normalized\n",
    "\n",
    "ggplot() +\n",
    "  geom_spatraster(data = r_R0_mean) +\n",
    "  scale_fill_viridis_c(name = \"R0\", na.value = \"transparent\") +\n",
    "  labs(title = \"Mosquito Reproductive Potential (R0) in Europe\",\n",
    "       subtitle = \"August 2024\") +\n",
    "  theme_minimal()"
   ]
  },
  {
   "cell_type": "markdown",
   "id": "22",
   "metadata": {},
   "source": [
    "# For monthly data"
   ]
  },
  {
   "cell_type": "code",
   "execution_count": null,
   "id": "23",
   "metadata": {
    "vscode": {
     "languageId": "r"
    }
   },
   "outputs": [],
   "source": [
    "target_file <- paste0(\"era5_data_2024_01_02_03_2t_tp_monthly_celsius_mm_resampled_05degree_trim.nc\")\n",
    "target_file <- file.path(path, target_file)\n",
    "r_tmp = terra::rast(target_file)\n",
    "r_tmp"
   ]
  },
  {
   "cell_type": "code",
   "execution_count": null,
   "id": "24",
   "metadata": {
    "vscode": {
     "languageId": "r"
    }
   },
   "outputs": [],
   "source": [
    "nlyr(r_tmp)"
   ]
  },
  {
   "cell_type": "markdown",
   "id": "25",
   "metadata": {},
   "source": [
    "## Get temperature data and inspect"
   ]
  },
  {
   "cell_type": "code",
   "execution_count": null,
   "id": "26",
   "metadata": {
    "vscode": {
     "languageId": "r"
    }
   },
   "outputs": [],
   "source": [
    "r_tmp <- r_tmp[[c(\"t2m_1\", \"t2m_2\", \"t2m_3\")]]"
   ]
  },
  {
   "cell_type": "code",
   "execution_count": null,
   "id": "27",
   "metadata": {
    "vscode": {
     "languageId": "r"
    }
   },
   "outputs": [],
   "source": [
    "r_mean <- app(r_tmp, fun = mean, na.rm = TRUE)\n",
    "\n",
    "ggplot() +\n",
    "  geom_spatraster(data = r_mean) +\n",
    "  scale_fill_viridis_c(name = \"Temp (°C)\", na.value = \"transparent\") +\n",
    "  labs(title = \"Temperature \",\n",
    "       subtitle = \"mean Jan-March 2024\") +\n",
    "  theme_minimal()"
   ]
  },
  {
   "cell_type": "code",
   "execution_count": null,
   "id": "28",
   "metadata": {
    "vscode": {
     "languageId": "r"
    }
   },
   "outputs": [],
   "source": [
    "jan_temp <- r_tmp[[\"t2m_1\"]]\n",
    "ggplot() +\n",
    "  geom_spatraster(data = jan_temp) +\n",
    "  scale_fill_viridis_c(name = \"Temp (°C)\", na.value = \"transparent\") +\n",
    "  labs(title = \"Temperature \",\n",
    "       subtitle = \"Jan 2024\") +\n",
    "  theme_minimal()"
   ]
  },
  {
   "cell_type": "markdown",
   "id": "29",
   "metadata": {},
   "source": [
    "## apply model to daily data"
   ]
  },
  {
   "cell_type": "code",
   "execution_count": null,
   "id": "30",
   "metadata": {
    "vscode": {
     "languageId": "r"
    }
   },
   "outputs": [],
   "source": [
    "cl <- makeCluster(16)  \n",
    "# export relevant functions to cluster\n",
    "clusterExport(cl, \n",
    "              list(\"df_R0_Cpip_post\",\n",
    "                   \"R0_pip_fun\", \n",
    "                   \"interp_fun\"\n",
    ")) \n",
    "\n",
    "r_R0 <- NULL\n",
    "\n",
    "# crop to Europe extent\n",
    "r_tmp <- terra::crop(r_tmp, eu_nuts3)\n",
    "\n",
    "# apply R0 transformation\n",
    "r_R0 <<- app(r_tmp, \n",
    "            fun = R0_pip_fun,\n",
    "            cores = cl)\n",
    "\n",
    "# # save output\n",
    "output_filename = paste0(\"R0_pip_posterior_median_europe_daily_2024.tif\")\n",
    "output_filename <- file.path(out_data, output_filename)\n",
    "writeRaster(r_R0, filename = output_filename,\n",
    "            overwrite = TRUE)\n",
    "\n",
    "# print(paste(year,month))\n",
    "print(paste('target_file', target_file))\n",
    "print(paste('output_file', output_filename))\n",
    "\n",
    "stopCluster(cl)"
   ]
  },
  {
   "cell_type": "markdown",
   "id": "31",
   "metadata": {},
   "source": [
    "## Inspect results"
   ]
  },
  {
   "cell_type": "code",
   "execution_count": null,
   "id": "32",
   "metadata": {
    "vscode": {
     "languageId": "r"
    }
   },
   "outputs": [],
   "source": [
    "nlyr(r_R0) # n layers in the raster"
   ]
  },
  {
   "cell_type": "code",
   "execution_count": null,
   "id": "33",
   "metadata": {
    "vscode": {
     "languageId": "r"
    }
   },
   "outputs": [],
   "source": [
    "r_R0"
   ]
  },
  {
   "cell_type": "code",
   "execution_count": null,
   "id": "34",
   "metadata": {
    "vscode": {
     "languageId": "r"
    }
   },
   "outputs": [],
   "source": [
    "r_R0_mean <- app(r_R0, fun = mean, na.rm = FALSE) # this does something werid, the values that come out should be normalized\n",
    "\n",
    "ggplot() +\n",
    "  geom_spatraster(data = r_R0_mean) +\n",
    "  scale_fill_viridis_c(name = \"R0\", na.value = \"transparent\") +\n",
    "  labs(title = \"R0\",\n",
    "       subtitle = \"Mean January-March 2024\") +\n",
    "  theme_minimal()"
   ]
  },
  {
   "cell_type": "code",
   "execution_count": null,
   "id": "35",
   "metadata": {
    "vscode": {
     "languageId": "r"
    }
   },
   "outputs": [],
   "source": [
    "ggplot() +\n",
    "  geom_spatraster(data = r_R0[[\"lyr.1\"]]) +\n",
    "  scale_fill_viridis_c(name = \"R0\", na.value = \"transparent\") +\n",
    "  labs(title = \"R0\",\n",
    "       subtitle = \"January\"\n",
    "  )  +\n",
    "  theme_minimal()"
   ]
  }
 ],
 "metadata": {
  "kernelspec": {
   "display_name": "R",
   "language": "R",
   "name": "ir"
  },
  "language_info": {
   "codemirror_mode": "r",
   "file_extension": ".r",
   "mimetype": "text/x-r-source",
   "name": "R",
   "pygments_lexer": "r",
   "version": "4.5.0"
  }
 },
 "nbformat": 4,
 "nbformat_minor": 5
}
