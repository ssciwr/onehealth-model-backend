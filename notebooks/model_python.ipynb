{
 "cells": [
  {
   "cell_type": "code",
   "execution_count": null,
   "id": "0",
   "metadata": {},
   "outputs": [],
   "source": [
    "import xarray as xr\n",
    "import pandas as pd\n",
    "import numpy as np \n",
    "import dask as da\n",
    "import shapely as shp\n",
    "from scipy.interpolate import interp1d\n",
    "from pathlib import Path\n",
    "import rioxarray as rxr"
   ]
  },
  {
   "cell_type": "code",
   "execution_count": null,
   "id": "1",
   "metadata": {},
   "outputs": [],
   "source": [
    "path = Path.cwd().parent / 'data' / 'in'\n",
    "path"
   ]
  },
  {
   "cell_type": "markdown",
   "id": "2",
   "metadata": {},
   "source": [
    "# get data"
   ]
  },
  {
   "cell_type": "code",
   "execution_count": null,
   "id": "3",
   "metadata": {},
   "outputs": [],
   "source": [
    "data = xr.open_dataset(path / \"ERA5land_global_t2m_dailyStats_mean_01Deg_2024_08_data.nc\", chunks='auto', engine = 'rasterio')\n",
    "data"
   ]
  },
  {
   "cell_type": "code",
   "execution_count": null,
   "id": "4",
   "metadata": {},
   "outputs": [],
   "source": [
    "temp_data = xr.Dataset(pd.read_csv(path / \"R0_pip_stats.csv\")) \n",
    "temp_data"
   ]
  },
  {
   "cell_type": "code",
   "execution_count": null,
   "id": "5",
   "metadata": {},
   "outputs": [],
   "source": [
    "data['t2m'].mean(dim='valid_time').plot(cmap='viridis')"
   ]
  },
  {
   "cell_type": "markdown",
   "id": "6",
   "metadata": {},
   "source": [
    "# interpolation function"
   ]
  },
  {
   "cell_type": "markdown",
   "id": "7",
   "metadata": {},
   "source": [
    "the results differ at the moment, even though they should be the same. "
   ]
  },
  {
   "cell_type": "code",
   "execution_count": null,
   "id": "8",
   "metadata": {},
   "outputs": [],
   "source": [
    "temps = np.arange(0., 45.1, 0.1)\n",
    "valid = (~np.isnan(temp_data.Median_R0) & (temp_data.Temperature >= 0.0) & (temp_data.Temperature <= 45.1 )).values\n",
    "\n",
    "# interp1d is deprecated, but it works and does what we need. \n",
    "# replacing this with a callback to numpy.interp is unnecessarily complicated, since \n",
    "# we need a function at the end, not the array directly.\n",
    "r0_pip_fun = interp1d(\n",
    "    temp_data.Temperature[valid].values, \n",
    "    temp_data.Median_R0[valid].values, \n",
    "    bounds_error=False, \n",
    "    fill_value=0.0, \n",
    "    kind='linear'\n",
    ")\n"
   ]
  },
  {
   "cell_type": "code",
   "execution_count": null,
   "id": "9",
   "metadata": {},
   "outputs": [],
   "source": [
    "print(f\"Min: {data['t2m'].min().values}\")\n",
    "print(f\"Max: {data['t2m'].max().values}\")\n",
    "print(f\"Mean: {data['t2m'].mean().values}\")"
   ]
  },
  {
   "cell_type": "markdown",
   "id": "10",
   "metadata": {},
   "source": [
    "# apply the function to the data"
   ]
  },
  {
   "cell_type": "code",
   "execution_count": null,
   "id": "11",
   "metadata": {},
   "outputs": [],
   "source": [
    "r0_map = xr.apply_ufunc(\n",
    "    r0_pip_fun, \n",
    "    data['t2m'], \n",
    "    dask=\"allowed\", \n",
    "    input_core_dims=[[]],\n",
    "    output_core_dims=[[]],\n",
    "    vectorize=True,\n",
    ")\n",
    "r0_map"
   ]
  },
  {
   "cell_type": "code",
   "execution_count": null,
   "id": "12",
   "metadata": {},
   "outputs": [],
   "source": [
    "print(f\"Min: {r0_map.min().values}\")\n",
    "print(f\"Max: {r0_map.max().values}\")\n",
    "print(f\"Mean: {r0_map.mean().values}\")"
   ]
  },
  {
   "cell_type": "code",
   "execution_count": null,
   "id": "13",
   "metadata": {},
   "outputs": [],
   "source": [
    "r0_map.mean(dim='valid_time').plot(cmap='viridis')"
   ]
  },
  {
   "cell_type": "markdown",
   "id": "14",
   "metadata": {},
   "source": [
    "This looks fundamentally different from the version of R"
   ]
  },
  {
   "cell_type": "code",
   "execution_count": null,
   "id": "15",
   "metadata": {},
   "outputs": [],
   "source": [
    "import geopandas as gpd \n",
    "\n",
    "\n",
    "def get_eurostat_geospatial(nuts_level=3, year=2024, resolution='10M'):\n",
    "    \"\"\"Download NUTS boundaries directly from Eurostat GISCO API\"\"\"\n",
    "    \n",
    "    base_url = \"https://gisco-services.ec.europa.eu/distribution/v2/nuts\"\n",
    "    \n",
    "    # Available formats: geojson, shp, topojson\n",
    "    url = f\"{base_url}/geojson/NUTS_RG_{resolution}_{year}_4326_LEVL_{nuts_level}.geojson\"\n",
    "    \n",
    "    try:\n",
    "        nuts_data = gpd.read_file(url)\n",
    "        return nuts_data\n",
    "    except Exception as e:\n",
    "        print(f\"Failed to download from {url}: {e}\")\n",
    "        return None"
   ]
  },
  {
   "cell_type": "code",
   "execution_count": null,
   "id": "16",
   "metadata": {},
   "outputs": [],
   "source": [
    "europe_bounds = get_eurostat_geospatial(resolution = '10M',\n",
    "                                    nuts_level = 3, \n",
    "                                    year = 2024) "
   ]
  },
  {
   "cell_type": "code",
   "execution_count": null,
   "id": "17",
   "metadata": {},
   "outputs": [],
   "source": [
    "europe_bounds"
   ]
  },
  {
   "cell_type": "code",
   "execution_count": null,
   "id": "18",
   "metadata": {},
   "outputs": [],
   "source": [
    "minlong, minlat, maxlong, maxlat = europe_bounds.total_bounds"
   ]
  },
  {
   "cell_type": "code",
   "execution_count": null,
   "id": "19",
   "metadata": {},
   "outputs": [],
   "source": [
    "print(f\"Europe bounds: {minlong}, {minlat}, {maxlong}, {maxlat}\")"
   ]
  },
  {
   "cell_type": "markdown",
   "id": "20",
   "metadata": {},
   "source": [
    "this doesn´t work yet. "
   ]
  },
  {
   "cell_type": "code",
   "execution_count": null,
   "id": "21",
   "metadata": {},
   "outputs": [],
   "source": [
    "r0_map_europe = r0_map.sel(\n",
    "    longitude=slice(minlong, maxlong),  # min_x to max_x\n",
    "    latitude=slice(minlat, maxlat)    # max_y to min_y (latitude might be descending)\n",
    ")"
   ]
  },
  {
   "cell_type": "code",
   "execution_count": null,
   "id": "22",
   "metadata": {},
   "outputs": [],
   "source": [
    "r0_map_europe"
   ]
  },
  {
   "cell_type": "code",
   "execution_count": null,
   "id": "23",
   "metadata": {},
   "outputs": [],
   "source": [
    "r0_map_europe.mean(dim='valid_time').plot(cmap='viridis')"
   ]
  },
  {
   "cell_type": "code",
   "execution_count": null,
   "id": "24",
   "metadata": {},
   "outputs": [],
   "source": []
  }
 ],
 "metadata": {
  "kernelspec": {
   "display_name": ".venv",
   "language": "python",
   "name": "python3"
  },
  "language_info": {
   "codemirror_mode": {
    "name": "ipython",
    "version": 3
   },
   "file_extension": ".py",
   "mimetype": "text/x-python",
   "name": "python",
   "nbconvert_exporter": "python",
   "pygments_lexer": "ipython3",
   "version": "3.12.3"
  }
 },
 "nbformat": 4,
 "nbformat_minor": 5
}
