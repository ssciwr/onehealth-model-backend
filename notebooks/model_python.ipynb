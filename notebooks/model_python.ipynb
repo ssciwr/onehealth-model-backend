{
 "cells": [
  {
   "cell_type": "code",
   "execution_count": null,
   "id": "0",
   "metadata": {},
   "outputs": [],
   "source": [
    "import model_backend as mdc\n",
    "from pathlib import Path\n",
    "import xarray as xr\n",
    "import rioxarray as rioxr \n",
    "import numpy as np "
   ]
  },
  {
   "cell_type": "code",
   "execution_count": null,
   "id": "1",
   "metadata": {},
   "outputs": [],
   "source": [
    "def make_test_data(tmp_path) -> xr.Dataset:\n",
    "    # Create proper geographical coordinates\n",
    "    lon = np.linspace(-180, 180, 10)\n",
    "    lat = np.linspace(-90, 90, 10)\n",
    "    data = np.random.rand(10, 10)\n",
    "    \n",
    "    # Create dataset with proper dimension order for geospatial data\n",
    "    ds = xr.Dataset(\n",
    "        data_vars={\n",
    "            \"temp\": ((\"y\", \"x\"), data),\n",
    "        },\n",
    "        coords={\n",
    "            \"y\": lat,\n",
    "            \"x\": lon,\n",
    "        },\n",
    "    )\n",
    "    \n",
    "    # Save to netCDF\n",
    "    ds.to_netcdf(tmp_path / \"test_data.nc\", mode=\"w\", format=\"NETCDF4\")\n",
    "    \n",
    "    \n",
    "    # First load with netCDF engine\n",
    "    with xr.open_dataset(tmp_path / \"test_data.nc\") as data:\n",
    "    \n",
    "        # Properly set spatial attributes needed by rioxarray - this is what makes .rio work\n",
    "        data.rio.set_spatial_dims(x_dim=\"x\", y_dim=\"y\", inplace=True)\n",
    "        data.rio.write_crs(\"EPSG:4326\", inplace=True)\n",
    "        ds = data.copy()\n",
    "        \n",
    "    return ds"
   ]
  },
  {
   "cell_type": "code",
   "execution_count": null,
   "id": "2",
   "metadata": {},
   "outputs": [],
   "source": [
    "ds = make_test_data(Path(\"./\"))\n",
    "ds"
   ]
  },
  {
   "cell_type": "code",
   "execution_count": null,
   "id": "3",
   "metadata": {},
   "outputs": [],
   "source": [
    "\n",
    "# Save to netCDF\n",
    "\n",
    "# First load with netCDF engine\n",
    "with xr.open_dataset(\"test_data.nc\") as ds:\n",
    "\n",
    "    print(ds.rio.crs)  # Check if CRS is set\n",
    "    print(ds)\n",
    "    # Properly set spatial attributes needed by rioxarray - this is what makes .rio work\n",
    "    # ds.rio.set_spatial_dims(x_dim=\"x\", y_dim=\"y\", inplace=True)\n",
    "    ds.rio.write_crs(\"EPSG:4326\", inplace=True)\n",
    "    ds"
   ]
  },
  {
   "cell_type": "code",
   "execution_count": null,
   "id": "4",
   "metadata": {},
   "outputs": [],
   "source": [
    "ds"
   ]
  },
  {
   "cell_type": "code",
   "execution_count": null,
   "id": "5",
   "metadata": {},
   "outputs": [],
   "source": [
    "ds.rio.crs"
   ]
  },
  {
   "cell_type": "code",
   "execution_count": null,
   "id": "6",
   "metadata": {},
   "outputs": [],
   "source": [
    "ds.rio.write_crs(None, inplace=True)"
   ]
  },
  {
   "cell_type": "markdown",
   "id": "7",
   "metadata": {},
   "source": [
    "# Build model instance"
   ]
  },
  {
   "cell_type": "markdown",
   "id": "8",
   "metadata": {},
   "source": [
    "data is assumed to live in a directory: \n",
    "\n",
    "data/in\n",
    "\n",
    "relative to the base directory of the package"
   ]
  },
  {
   "cell_type": "code",
   "execution_count": null,
   "id": "9",
   "metadata": {},
   "outputs": [],
   "source": [
    "path = Path.cwd().parent / \"data\" / \"in\"\n",
    "path"
   ]
  },
  {
   "cell_type": "code",
   "execution_count": null,
   "id": "10",
   "metadata": {},
   "outputs": [],
   "source": [
    "model = mdc.JModel(\n",
    "    input = path / \"ERA5land_global_t2m_dailyStats_mean_01Deg_2024_08_data.nc\", \n",
    "    output = Path.cwd().parent / 'data' / \"out\" / \"output_map.nc\", \n",
    "    r0_path= path / \"R0_pip_stats.csv\",\n",
    "    run_mode=\"forbidden\", \n",
    "    grid_data_baseurl=\"https://gisco-services.ec.europa.eu/distribution/v2/nuts\",\n",
    "    nuts_level =3, \n",
    "    resolution = \"10M\", \n",
    "    year=2024, \n",
    ")"
   ]
  },
  {
   "cell_type": "markdown",
   "id": "11",
   "metadata": {},
   "source": [
    "# Run model -> load data -> apply model transformations -> save back to netcdf"
   ]
  },
  {
   "cell_type": "code",
   "execution_count": null,
   "id": "12",
   "metadata": {},
   "outputs": [],
   "source": [
    "model.run()"
   ]
  },
  {
   "cell_type": "markdown",
   "id": "13",
   "metadata": {},
   "source": [
    "# Have a look at produced data"
   ]
  },
  {
   "cell_type": "code",
   "execution_count": null,
   "id": "14",
   "metadata": {},
   "outputs": [],
   "source": [
    "data = xr.open_dataset(\n",
    "            Path.cwd().parent / 'data' / \"out\" / \"output_map.nc\", engine=\"rasterio\"\n",
    "        )"
   ]
  },
  {
   "cell_type": "code",
   "execution_count": null,
   "id": "15",
   "metadata": {},
   "outputs": [],
   "source": [
    "data"
   ]
  },
  {
   "cell_type": "code",
   "execution_count": null,
   "id": "16",
   "metadata": {},
   "outputs": [],
   "source": [
    "data[\"r0\"].mean(dim=\"valid_time\").plot(cmap=\"viridis\")"
   ]
  },
  {
   "cell_type": "code",
   "execution_count": null,
   "id": "17",
   "metadata": {},
   "outputs": [],
   "source": []
  }
 ],
 "metadata": {
  "kernelspec": {
   "display_name": ".venv",
   "language": "python",
   "name": "python3"
  },
  "language_info": {
   "codemirror_mode": {
    "name": "ipython",
    "version": 3
   },
   "file_extension": ".py",
   "mimetype": "text/x-python",
   "name": "python",
   "nbconvert_exporter": "python",
   "pygments_lexer": "ipython3",
   "version": "3.13.3"
  }
 },
 "nbformat": 4,
 "nbformat_minor": 5
}
