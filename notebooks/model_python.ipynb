{
 "cells": [
  {
   "cell_type": "code",
   "execution_count": null,
   "id": "0",
   "metadata": {},
   "outputs": [],
   "source": [
    "import model_backend as mdc\n",
    "from pathlib import Path\n",
    "import xarray as xr"
   ]
  },
  {
   "cell_type": "markdown",
   "id": "1",
   "metadata": {},
   "source": [
    "# Build model instance"
   ]
  },
  {
   "cell_type": "markdown",
   "id": "2",
   "metadata": {},
   "source": [
    "data is assumed to live in a directory: \n",
    "\n",
    "data/in\n",
    "\n",
    "relative to the base directory of the package"
   ]
  },
  {
   "cell_type": "code",
   "execution_count": null,
   "id": "3",
   "metadata": {},
   "outputs": [],
   "source": [
    "path = Path.cwd().parent / \"data\" / \"in\"\n",
    "path"
   ]
  },
  {
   "cell_type": "code",
   "execution_count": null,
   "id": "4",
   "metadata": {},
   "outputs": [],
   "source": [
    "model = mdc.JModel(\n",
    "    input = path / \"ERA5land_global_t2m_dailyStats_mean_01Deg_2024_08_data.nc\", \n",
    "    output = Path.cwd().parent / 'data' / \"out\" / \"output_map.nc\", \n",
    "    r0_path= path / \"R0_pip_stats.csv\",\n",
    "    run_mode=\"forbidden\", \n",
    "    grid_data_baseurl=\"https://gisco-services.ec.europa.eu/distribution/v2/nuts\",\n",
    "    nuts_level =3, \n",
    "    resolution = \"10M\", \n",
    "    year=2024, \n",
    "    month=8,\n",
    ")"
   ]
  },
  {
   "cell_type": "markdown",
   "id": "5",
   "metadata": {},
   "source": [
    "# Run model -> load data -> apply model transformations -> save back to netcdf"
   ]
  },
  {
   "cell_type": "code",
   "execution_count": null,
   "id": "6",
   "metadata": {},
   "outputs": [],
   "source": [
    "model.run()"
   ]
  },
  {
   "cell_type": "markdown",
   "id": "7",
   "metadata": {},
   "source": [
    "# Have a look at produced data"
   ]
  },
  {
   "cell_type": "code",
   "execution_count": null,
   "id": "8",
   "metadata": {},
   "outputs": [],
   "source": [
    "data = xr.open_dataset(\n",
    "            Path.cwd().parent / 'data' / \"out\" / \"output_map.nc\", engine=\"rasterio\"\n",
    "        )"
   ]
  },
  {
   "cell_type": "code",
   "execution_count": null,
   "id": "9",
   "metadata": {},
   "outputs": [],
   "source": [
    "data"
   ]
  },
  {
   "cell_type": "code",
   "execution_count": null,
   "id": "10",
   "metadata": {},
   "outputs": [],
   "source": [
    "data[\"r0\"].mean(dim=\"valid_time\").plot(cmap=\"viridis\")"
   ]
  },
  {
   "cell_type": "code",
   "execution_count": null,
   "id": "11",
   "metadata": {},
   "outputs": [],
   "source": []
  }
 ],
 "metadata": {
  "kernelspec": {
   "display_name": ".venv",
   "language": "python",
   "name": "python3"
  },
  "language_info": {
   "codemirror_mode": {
    "name": "ipython",
    "version": 3
   },
   "file_extension": ".py",
   "mimetype": "text/x-python",
   "name": "python",
   "nbconvert_exporter": "python",
   "pygments_lexer": "ipython3",
   "version": "3.12.3"
  }
 },
 "nbformat": 4,
 "nbformat_minor": 5
}
