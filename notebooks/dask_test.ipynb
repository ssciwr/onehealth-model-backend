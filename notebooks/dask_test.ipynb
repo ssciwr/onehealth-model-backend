{
 "cells": [
  {
   "cell_type": "markdown",
   "id": "0",
   "metadata": {},
   "source": [
    "# Dask processing tests"
   ]
  },
  {
   "cell_type": "markdown",
   "id": "1",
   "metadata": {},
   "source": [
    "this needs graphviz for visualizations"
   ]
  },
  {
   "cell_type": "code",
   "execution_count": 1,
   "id": "2",
   "metadata": {},
   "outputs": [],
   "source": [
    "import dask\n",
    "import dask.array as da\n",
    "import numpy as np\n"
   ]
  },
  {
   "cell_type": "markdown",
   "id": "3",
   "metadata": {},
   "source": [
    "## define a computational graph\n",
    "embarassingly parallel here "
   ]
  },
  {
   "cell_type": "code",
   "execution_count": 2,
   "id": "4",
   "metadata": {},
   "outputs": [],
   "source": [
    "def f(x):\n",
    "    return x + 1\n",
    "\n",
    "def g(x):\n",
    "    return x * 2\n",
    "\n",
    "def h(x):\n",
    "    return x - 3\n",
    "\n",
    "def m(x):  \n",
    "    return da.mean(x)  # we can also use numpy.mean here if we want, but the latter will directly materialize the array. da.mean needs a 'compute' call to materialize the array instead\n",
    "\n",
    "def identity(x):\n",
    "    return x"
   ]
  },
  {
   "cell_type": "code",
   "execution_count": 3,
   "id": "5",
   "metadata": {},
   "outputs": [],
   "source": [
    "f_delayed = dask.delayed(f)\n",
    "g_delayed = dask.delayed(g)\n",
    "h_delayed = dask.delayed(h)\n",
    "m_delayed = dask.delayed(m)"
   ]
  },
  {
   "cell_type": "code",
   "execution_count": 4,
   "id": "6",
   "metadata": {},
   "outputs": [],
   "source": [
    "input_placeholder = dask.delayed(identity, pure = True)(da.arange(2))\n",
    "fx = f_delayed(input_placeholder)\n",
    "gx = g_delayed(fx)\n",
    "hx = h_delayed(gx)\n",
    "mx = m_delayed(hx)\n",
    "input_key = input_placeholder.key\n",
    "computation = mx \n",
    "graph = dict(computation.dask)"
   ]
  },
  {
   "cell_type": "code",
   "execution_count": 5,
   "id": "7",
   "metadata": {},
   "outputs": [
    {
     "data": {
      "text/plain": [
       "'identity-a6a84f881da07f5791b1695d91e07114'"
      ]
     },
     "execution_count": 5,
     "metadata": {},
     "output_type": "execute_result"
    }
   ],
   "source": [
    "input_key"
   ]
  },
  {
   "cell_type": "code",
   "execution_count": 6,
   "id": "8",
   "metadata": {},
   "outputs": [
    {
     "data": {
      "text/plain": [
       "Delayed('m-03bb9dcd-5cdd-4624-a89b-8c43fac703bd')"
      ]
     },
     "execution_count": 6,
     "metadata": {},
     "output_type": "execute_result"
    }
   ],
   "source": [
    "computation"
   ]
  },
  {
   "cell_type": "code",
   "execution_count": 7,
   "id": "9",
   "metadata": {},
   "outputs": [
    {
     "data": {
      "text/plain": [
       "{'identity-a6a84f881da07f5791b1695d91e07114': <Task 'identity-a6a84f881da07f5791b1695d91e07114' identity(...)>,\n",
       " 'arange-finalize-hlgfinalizecompute-c009a5b62dd84ef1acd4f7515572a97a-12e602f8a22a45c79e8d80cf3bb58d9b': <Task 'arange-finalize-hlgfinalizecompute-c009a5b62dd84ef1acd4f7515572a97a-12e602f8a22a45c79e8d80cf3bb58d9b' _identity(...)>,\n",
       " 'finalize-hlgfinalizecompute-c009a5b62dd84ef1acd4f7515572a97a-12e602f8a22a45c79e8d80cf3bb58d9b': <Task 'finalize-hlgfinalizecompute-c009a5b62dd84ef1acd4f7515572a97a-12e602f8a22a45c79e8d80cf3bb58d9b' _identity(...)>,\n",
       " 'arange-finalize-hlgfinalizecompute-c009a5b62dd84ef1acd4f7515572a97a': <Task 'arange-finalize-hlgfinalizecompute-c009a5b62dd84ef1acd4f7515572a97a' _execute_subgraph(...)>,\n",
       " 'finalize-hlgfinalizecompute-c009a5b62dd84ef1acd4f7515572a97a': Alias('finalize-hlgfinalizecompute-c009a5b62dd84ef1acd4f7515572a97a'->'arange-finalize-hlgfinalizecompute-c009a5b62dd84ef1acd4f7515572a97a'),\n",
       " 'f-ffbb7747-1ddf-4591-a8b1-8803a591a28d': <Task 'f-ffbb7747-1ddf-4591-a8b1-8803a591a28d' f(...)>,\n",
       " 'g-694e181f-968c-4363-bbf6-b5dcde85ac3f': <Task 'g-694e181f-968c-4363-bbf6-b5dcde85ac3f' g(...)>,\n",
       " 'h-b2f8108a-7ce4-49d0-aacf-f459175ed62e': <Task 'h-b2f8108a-7ce4-49d0-aacf-f459175ed62e' h(...)>,\n",
       " 'm-03bb9dcd-5cdd-4624-a89b-8c43fac703bd': <Task 'm-03bb9dcd-5cdd-4624-a89b-8c43fac703bd' m(...)>}"
      ]
     },
     "execution_count": 7,
     "metadata": {},
     "output_type": "execute_result"
    }
   ],
   "source": [
    "graph"
   ]
  },
  {
   "cell_type": "code",
   "execution_count": 8,
   "id": "10",
   "metadata": {},
   "outputs": [
    {
     "data": {
      "image/svg+xml": [
       "<svg xmlns=\"http://www.w3.org/2000/svg\" xmlns:xlink=\"http://www.w3.org/1999/xlink\" width=\"554pt\" height=\"1313pt\" viewBox=\"0.00 0.00 553.88 1313.06\">\n",
       "<g id=\"graph0\" class=\"graph\" transform=\"scale(1 1) rotate(0) translate(4 1309.06)\">\n",
       "<title>%3</title>\n",
       "<polygon fill=\"white\" stroke=\"transparent\" points=\"-4,4 -4,-1309.06 549.88,-1309.06 549.88,4 -4,4\"/>\n",
       "<!-- &#45;270933086570136680 -->\n",
       "<g id=\"node1\" class=\"node\">\n",
       "<title>-270933086570136680</title>\n",
       "<ellipse fill=\"none\" stroke=\"black\" cx=\"131.94\" cy=\"-609.22\" rx=\"44.69\" ry=\"44.69\"/>\n",
       "<text text-anchor=\"middle\" x=\"131.94\" y=\"-605.52\" font-family=\"Helvetica,sans-Serif\" font-size=\"14.00\">identity</text>\n",
       "</g>\n",
       "<!-- 8665150338256433876 -->\n",
       "<g id=\"node2\" class=\"node\">\n",
       "<title>8665150338256433876</title>\n",
       "<polygon fill=\"none\" stroke=\"black\" points=\"158.94,-726.06 104.94,-726.06 104.94,-690.06 158.94,-690.06 158.94,-726.06\"/>\n",
       "</g>\n",
       "<!-- &#45;270933086570136680&#45;&gt;8665150338256433876 -->\n",
       "<g id=\"edge1\" class=\"edge\">\n",
       "<title>-270933086570136680-&gt;8665150338256433876</title>\n",
       "<path fill=\"none\" stroke=\"black\" d=\"M131.94,-654.1C131.94,-662.78 131.94,-671.64 131.94,-679.58\"/>\n",
       "<polygon fill=\"black\" stroke=\"black\" points=\"128.44,-679.72 131.94,-689.72 135.44,-679.72 128.44,-679.72\"/>\n",
       "</g>\n",
       "<!-- 2757670870956286533 -->\n",
       "<g id=\"node11\" class=\"node\">\n",
       "<title>2757670870956286533</title>\n",
       "<ellipse fill=\"none\" stroke=\"black\" cx=\"131.94\" cy=\"-780.06\" rx=\"18\" ry=\"18\"/>\n",
       "<text text-anchor=\"middle\" x=\"131.94\" y=\"-776.36\" font-family=\"Helvetica,sans-Serif\" font-size=\"14.00\">f</text>\n",
       "</g>\n",
       "<!-- 8665150338256433876&#45;&gt;2757670870956286533 -->\n",
       "<g id=\"edge10\" class=\"edge\">\n",
       "<title>8665150338256433876-&gt;2757670870956286533</title>\n",
       "<path fill=\"none\" stroke=\"black\" d=\"M131.94,-726.36C131.94,-734.08 131.94,-743.35 131.94,-751.95\"/>\n",
       "<polygon fill=\"black\" stroke=\"black\" points=\"128.44,-751.96 131.94,-761.96 135.44,-751.96 128.44,-751.96\"/>\n",
       "</g>\n",
       "<!-- &#45;3451997227840293693 -->\n",
       "<g id=\"node3\" class=\"node\">\n",
       "<title>-3451997227840293693</title>\n",
       "<polygon fill=\"none\" stroke=\"black\" points=\"158.94,-528.37 104.94,-528.37 104.94,-492.37 158.94,-492.37 158.94,-528.37\"/>\n",
       "</g>\n",
       "<!-- &#45;3451997227840293693&#45;&gt;&#45;270933086570136680 -->\n",
       "<g id=\"edge2\" class=\"edge\">\n",
       "<title>-3451997227840293693-&gt;-270933086570136680</title>\n",
       "<path fill=\"none\" stroke=\"black\" d=\"M131.94,-528.68C131.94,-535.96 131.94,-544.85 131.94,-554.03\"/>\n",
       "<polygon fill=\"black\" stroke=\"black\" points=\"128.44,-554.03 131.94,-564.03 135.44,-554.03 128.44,-554.03\"/>\n",
       "</g>\n",
       "<!-- 6881538711884723197 -->\n",
       "<g id=\"node4\" class=\"node\">\n",
       "<title>6881538711884723197</title>\n",
       "<ellipse fill=\"none\" stroke=\"black\" cx=\"131.94\" cy=\"-42.25\" rx=\"42.49\" ry=\"42.49\"/>\n",
       "<text text-anchor=\"middle\" x=\"131.94\" y=\"-38.55\" font-family=\"Helvetica,sans-Serif\" font-size=\"14.00\">arange</text>\n",
       "</g>\n",
       "<!-- &#45;985307146725641941 -->\n",
       "<g id=\"node5\" class=\"node\">\n",
       "<title>-985307146725641941</title>\n",
       "<polygon fill=\"none\" stroke=\"black\" points=\"158.94,-156.49 104.94,-156.49 104.94,-120.49 158.94,-120.49 158.94,-156.49\"/>\n",
       "</g>\n",
       "<!-- 6881538711884723197&#45;&gt;&#45;985307146725641941 -->\n",
       "<g id=\"edge3\" class=\"edge\">\n",
       "<title>6881538711884723197-&gt;-985307146725641941</title>\n",
       "<path fill=\"none\" stroke=\"black\" d=\"M131.94,-84.58C131.94,-93.15 131.94,-101.98 131.94,-109.91\"/>\n",
       "<polygon fill=\"black\" stroke=\"black\" points=\"128.44,-110.06 131.94,-120.06 135.44,-110.06 128.44,-110.06\"/>\n",
       "</g>\n",
       "<!-- &#45;8498243832395197895 -->\n",
       "<g id=\"node6\" class=\"node\">\n",
       "<title>-8498243832395197895</title>\n",
       "<ellipse fill=\"none\" stroke=\"black\" cx=\"131.94\" cy=\"-324.43\" rx=\"131.88\" ry=\"131.88\"/>\n",
       "<text text-anchor=\"middle\" x=\"131.94\" y=\"-320.73\" font-family=\"Helvetica,sans-Serif\" font-size=\"14.00\">finalize-hlgfinalizecompute</text>\n",
       "</g>\n",
       "<!-- &#45;985307146725641941&#45;&gt;&#45;8498243832395197895 -->\n",
       "<g id=\"edge5\" class=\"edge\">\n",
       "<title>-985307146725641941-&gt;-8498243832395197895</title>\n",
       "<path fill=\"none\" stroke=\"black\" d=\"M131.94,-156.8C131.94,-163.77 131.94,-172.49 131.94,-182.26\"/>\n",
       "<polygon fill=\"black\" stroke=\"black\" points=\"128.44,-182.35 131.94,-192.35 135.44,-182.35 128.44,-182.35\"/>\n",
       "</g>\n",
       "<!-- &#45;8498243832395197895&#45;&gt;&#45;3451997227840293693 -->\n",
       "<g id=\"edge4\" class=\"edge\">\n",
       "<title>-8498243832395197895-&gt;-3451997227840293693</title>\n",
       "<path fill=\"none\" stroke=\"black\" d=\"M131.94,-456.66C131.94,-466.02 131.94,-474.71 131.94,-482.23\"/>\n",
       "<polygon fill=\"black\" stroke=\"black\" points=\"128.44,-482.34 131.94,-492.34 135.44,-482.34 128.44,-482.34\"/>\n",
       "</g>\n",
       "<!-- &#45;6293239787160003001 -->\n",
       "<g id=\"node7\" class=\"node\">\n",
       "<title>-6293239787160003001</title>\n",
       "<ellipse fill=\"none\" stroke=\"black\" cx=\"413.94\" cy=\"-42.25\" rx=\"42.49\" ry=\"42.49\"/>\n",
       "<text text-anchor=\"middle\" x=\"413.94\" y=\"-38.55\" font-family=\"Helvetica,sans-Serif\" font-size=\"14.00\">arange</text>\n",
       "</g>\n",
       "<!-- &#45;6212595312571764141 -->\n",
       "<g id=\"node8\" class=\"node\">\n",
       "<title>-6212595312571764141</title>\n",
       "<polygon fill=\"none\" stroke=\"black\" points=\"440.94,-156.49 386.94,-156.49 386.94,-120.49 440.94,-120.49 440.94,-156.49\"/>\n",
       "</g>\n",
       "<!-- &#45;6293239787160003001&#45;&gt;&#45;6212595312571764141 -->\n",
       "<g id=\"edge6\" class=\"edge\">\n",
       "<title>-6293239787160003001-&gt;-6212595312571764141</title>\n",
       "<path fill=\"none\" stroke=\"black\" d=\"M413.94,-84.58C413.94,-93.15 413.94,-101.98 413.94,-109.91\"/>\n",
       "<polygon fill=\"black\" stroke=\"black\" points=\"410.44,-110.06 413.94,-120.06 417.44,-110.06 410.44,-110.06\"/>\n",
       "</g>\n",
       "<!-- &#45;4923653875815630668 -->\n",
       "<g id=\"node9\" class=\"node\">\n",
       "<title>-4923653875815630668</title>\n",
       "<ellipse fill=\"none\" stroke=\"black\" cx=\"413.94\" cy=\"-324.43\" rx=\"131.88\" ry=\"131.88\"/>\n",
       "<text text-anchor=\"middle\" x=\"413.94\" y=\"-320.73\" font-family=\"Helvetica,sans-Serif\" font-size=\"14.00\">finalize-hlgfinalizecompute</text>\n",
       "</g>\n",
       "<!-- &#45;6212595312571764141&#45;&gt;&#45;4923653875815630668 -->\n",
       "<g id=\"edge8\" class=\"edge\">\n",
       "<title>-6212595312571764141-&gt;-4923653875815630668</title>\n",
       "<path fill=\"none\" stroke=\"black\" d=\"M413.94,-156.8C413.94,-163.77 413.94,-172.49 413.94,-182.26\"/>\n",
       "<polygon fill=\"black\" stroke=\"black\" points=\"410.44,-182.35 413.94,-192.35 417.44,-182.35 410.44,-182.35\"/>\n",
       "</g>\n",
       "<!-- &#45;1199492529974623840 -->\n",
       "<g id=\"node10\" class=\"node\">\n",
       "<title>-1199492529974623840</title>\n",
       "<polygon fill=\"none\" stroke=\"black\" points=\"440.94,-528.37 386.94,-528.37 386.94,-492.37 440.94,-492.37 440.94,-528.37\"/>\n",
       "</g>\n",
       "<!-- &#45;4923653875815630668&#45;&gt;&#45;1199492529974623840 -->\n",
       "<g id=\"edge7\" class=\"edge\">\n",
       "<title>-4923653875815630668-&gt;-1199492529974623840</title>\n",
       "<path fill=\"none\" stroke=\"black\" d=\"M413.94,-456.66C413.94,-466.02 413.94,-474.71 413.94,-482.23\"/>\n",
       "<polygon fill=\"black\" stroke=\"black\" points=\"410.44,-482.34 413.94,-492.34 417.44,-482.34 410.44,-482.34\"/>\n",
       "</g>\n",
       "<!-- 7036223579158725236 -->\n",
       "<g id=\"node12\" class=\"node\">\n",
       "<title>7036223579158725236</title>\n",
       "<polygon fill=\"none\" stroke=\"black\" points=\"158.94,-870.06 104.94,-870.06 104.94,-834.06 158.94,-834.06 158.94,-870.06\"/>\n",
       "</g>\n",
       "<!-- 2757670870956286533&#45;&gt;7036223579158725236 -->\n",
       "<g id=\"edge9\" class=\"edge\">\n",
       "<title>2757670870956286533-&gt;7036223579158725236</title>\n",
       "<path fill=\"none\" stroke=\"black\" d=\"M131.94,-798.36C131.94,-806.08 131.94,-815.35 131.94,-823.95\"/>\n",
       "<polygon fill=\"black\" stroke=\"black\" points=\"128.44,-823.96 131.94,-833.96 135.44,-823.96 128.44,-823.96\"/>\n",
       "</g>\n",
       "<!-- 1376875988468265619 -->\n",
       "<g id=\"node13\" class=\"node\">\n",
       "<title>1376875988468265619</title>\n",
       "<ellipse fill=\"none\" stroke=\"black\" cx=\"131.94\" cy=\"-924.06\" rx=\"18\" ry=\"18\"/>\n",
       "<text text-anchor=\"middle\" x=\"131.94\" y=\"-920.36\" font-family=\"Helvetica,sans-Serif\" font-size=\"14.00\">g</text>\n",
       "</g>\n",
       "<!-- 7036223579158725236&#45;&gt;1376875988468265619 -->\n",
       "<g id=\"edge12\" class=\"edge\">\n",
       "<title>7036223579158725236-&gt;1376875988468265619</title>\n",
       "<path fill=\"none\" stroke=\"black\" d=\"M131.94,-870.36C131.94,-878.08 131.94,-887.35 131.94,-895.95\"/>\n",
       "<polygon fill=\"black\" stroke=\"black\" points=\"128.44,-895.96 131.94,-905.96 135.44,-895.96 128.44,-895.96\"/>\n",
       "</g>\n",
       "<!-- &#45;7230068935100283269 -->\n",
       "<g id=\"node14\" class=\"node\">\n",
       "<title>-7230068935100283269</title>\n",
       "<polygon fill=\"none\" stroke=\"black\" points=\"158.94,-1014.06 104.94,-1014.06 104.94,-978.06 158.94,-978.06 158.94,-1014.06\"/>\n",
       "</g>\n",
       "<!-- 1376875988468265619&#45;&gt;&#45;7230068935100283269 -->\n",
       "<g id=\"edge11\" class=\"edge\">\n",
       "<title>1376875988468265619-&gt;-7230068935100283269</title>\n",
       "<path fill=\"none\" stroke=\"black\" d=\"M131.94,-942.36C131.94,-950.08 131.94,-959.35 131.94,-967.95\"/>\n",
       "<polygon fill=\"black\" stroke=\"black\" points=\"128.44,-967.96 131.94,-977.96 135.44,-967.96 128.44,-967.96\"/>\n",
       "</g>\n",
       "<!-- &#45;2157949031597440041 -->\n",
       "<g id=\"node15\" class=\"node\">\n",
       "<title>-2157949031597440041</title>\n",
       "<ellipse fill=\"none\" stroke=\"black\" cx=\"131.94\" cy=\"-1068.06\" rx=\"18\" ry=\"18\"/>\n",
       "<text text-anchor=\"middle\" x=\"131.94\" y=\"-1064.36\" font-family=\"Helvetica,sans-Serif\" font-size=\"14.00\">h</text>\n",
       "</g>\n",
       "<!-- &#45;7230068935100283269&#45;&gt;&#45;2157949031597440041 -->\n",
       "<g id=\"edge14\" class=\"edge\">\n",
       "<title>-7230068935100283269-&gt;-2157949031597440041</title>\n",
       "<path fill=\"none\" stroke=\"black\" d=\"M131.94,-1014.36C131.94,-1022.08 131.94,-1031.35 131.94,-1039.95\"/>\n",
       "<polygon fill=\"black\" stroke=\"black\" points=\"128.44,-1039.96 131.94,-1049.96 135.44,-1039.96 128.44,-1039.96\"/>\n",
       "</g>\n",
       "<!-- &#45;8311708634562134234 -->\n",
       "<g id=\"node16\" class=\"node\">\n",
       "<title>-8311708634562134234</title>\n",
       "<polygon fill=\"none\" stroke=\"black\" points=\"158.94,-1158.06 104.94,-1158.06 104.94,-1122.06 158.94,-1122.06 158.94,-1158.06\"/>\n",
       "</g>\n",
       "<!-- &#45;2157949031597440041&#45;&gt;&#45;8311708634562134234 -->\n",
       "<g id=\"edge13\" class=\"edge\">\n",
       "<title>-2157949031597440041-&gt;-8311708634562134234</title>\n",
       "<path fill=\"none\" stroke=\"black\" d=\"M131.94,-1086.36C131.94,-1094.08 131.94,-1103.35 131.94,-1111.95\"/>\n",
       "<polygon fill=\"black\" stroke=\"black\" points=\"128.44,-1111.96 131.94,-1121.96 135.44,-1111.96 128.44,-1111.96\"/>\n",
       "</g>\n",
       "<!-- &#45;469458917234108668 -->\n",
       "<g id=\"node17\" class=\"node\">\n",
       "<title>-469458917234108668</title>\n",
       "<ellipse fill=\"none\" stroke=\"black\" cx=\"131.94\" cy=\"-1213.56\" rx=\"19.5\" ry=\"19.5\"/>\n",
       "<text text-anchor=\"middle\" x=\"131.94\" y=\"-1209.86\" font-family=\"Helvetica,sans-Serif\" font-size=\"14.00\">m</text>\n",
       "</g>\n",
       "<!-- &#45;8311708634562134234&#45;&gt;&#45;469458917234108668 -->\n",
       "<g id=\"edge16\" class=\"edge\">\n",
       "<title>-8311708634562134234-&gt;-469458917234108668</title>\n",
       "<path fill=\"none\" stroke=\"black\" d=\"M131.94,-1158.37C131.94,-1166.01 131.94,-1175.19 131.94,-1183.82\"/>\n",
       "<polygon fill=\"black\" stroke=\"black\" points=\"128.44,-1183.91 131.94,-1193.91 135.44,-1183.91 128.44,-1183.91\"/>\n",
       "</g>\n",
       "<!-- 5156315280790575015 -->\n",
       "<g id=\"node18\" class=\"node\">\n",
       "<title>5156315280790575015</title>\n",
       "<polygon fill=\"none\" stroke=\"black\" points=\"158.94,-1305.06 104.94,-1305.06 104.94,-1269.06 158.94,-1269.06 158.94,-1305.06\"/>\n",
       "</g>\n",
       "<!-- &#45;469458917234108668&#45;&gt;5156315280790575015 -->\n",
       "<g id=\"edge15\" class=\"edge\">\n",
       "<title>-469458917234108668-&gt;5156315280790575015</title>\n",
       "<path fill=\"none\" stroke=\"black\" d=\"M131.94,-1233.34C131.94,-1241.02 131.94,-1250.06 131.94,-1258.47\"/>\n",
       "<polygon fill=\"black\" stroke=\"black\" points=\"128.44,-1258.62 131.94,-1268.62 135.44,-1258.62 128.44,-1258.62\"/>\n",
       "</g>\n",
       "</g>\n",
       "</svg>"
      ],
      "text/plain": [
       "<IPython.core.display.SVG object>"
      ]
     },
     "execution_count": 8,
     "metadata": {},
     "output_type": "execute_result"
    }
   ],
   "source": [
    "dask.visualize(computation, filename='dask_graph.svg', format='svg')\n",
    "# Save the graph to a file"
   ]
  },
  {
   "cell_type": "markdown",
   "id": "11",
   "metadata": {},
   "source": [
    "### Execute with dask"
   ]
  },
  {
   "cell_type": "markdown",
   "id": "12",
   "metadata": {},
   "source": [
    "replace input with something more supstantial"
   ]
  },
  {
   "cell_type": "code",
   "execution_count": 9,
   "id": "13",
   "metadata": {},
   "outputs": [],
   "source": [
    "og_data = np.random.rand(int(1e9))"
   ]
  },
  {
   "cell_type": "markdown",
   "id": "14",
   "metadata": {},
   "source": [
    "wrap numpy array into dask array. only for the experiments here"
   ]
  },
  {
   "cell_type": "code",
   "execution_count": 10,
   "id": "15",
   "metadata": {},
   "outputs": [],
   "source": [
    "input_data = da.from_array(og_data, chunks=(int(1e6),))"
   ]
  },
  {
   "cell_type": "markdown",
   "id": "16",
   "metadata": {},
   "source": [
    "built the result by hand to be able to check it "
   ]
  },
  {
   "cell_type": "markdown",
   "id": "17",
   "metadata": {},
   "source": [
    "replace input of graph with new input and compute result "
   ]
  },
  {
   "cell_type": "code",
   "execution_count": 11,
   "id": "18",
   "metadata": {},
   "outputs": [
    {
     "data": {
      "text/plain": [
       "np.float64(-1.813128511285369e-05)"
      ]
     },
     "execution_count": 11,
     "metadata": {},
     "output_type": "execute_result"
    }
   ],
   "source": [
    "dask.config.set(scheduler='synchronous') # make ALL operations synchronous\n",
    "graph[input_key] = input_data \n",
    "result = dask.get(graph, mx.key,).compute()\n",
    "result"
   ]
  },
  {
   "cell_type": "markdown",
   "id": "19",
   "metadata": {},
   "source": [
    "try with parallel scheduler"
   ]
  },
  {
   "cell_type": "code",
   "execution_count": 12,
   "id": "20",
   "metadata": {},
   "outputs": [
    {
     "data": {
      "text/plain": [
       "np.float64(-1.813128511285369e-05)"
      ]
     },
     "execution_count": 12,
     "metadata": {},
     "output_type": "execute_result"
    }
   ],
   "source": [
    "dask.config.set(scheduler='processes') \n",
    "\n",
    "graph[input_key] = input_data \n",
    "result = dask.get(graph, mx.key).compute()  # Use processes scheduler\n",
    "result"
   ]
  },
  {
   "cell_type": "markdown",
   "id": "21",
   "metadata": {},
   "source": [
    "for dataframes, have a look [here](https://examples.dask.org/dataframe.html), for xarray, check [this](https://docs.xarray.dev/en/stable/user-guide/dask.html) out, and [that](https://examples.dask.org/xarray.html?highlight=schedulers) "
   ]
  },
  {
   "cell_type": "markdown",
   "id": "22",
   "metadata": {},
   "source": [
    "## Partial parallelization of a computational graph with `dask.annotate`"
   ]
  },
  {
   "cell_type": "markdown",
   "id": "23",
   "metadata": {},
   "source": [
    "annotate `h` to be serial only"
   ]
  },
  {
   "cell_type": "code",
   "execution_count": 13,
   "id": "24",
   "metadata": {},
   "outputs": [],
   "source": [
    "\n",
    "def h_single(x): \n",
    "    with dask.config.set(scheduler='synchronous'):\n",
    "        hx =  h(x)\n",
    "    return hx.rechunk('auto') # re-split the data again to make downstream operations parallel\n",
    "\n",
    "h_delayed_serial = dask.delayed(h_single)"
   ]
  },
  {
   "cell_type": "markdown",
   "id": "25",
   "metadata": {},
   "source": [
    "build up the graph again"
   ]
  },
  {
   "cell_type": "code",
   "execution_count": 14,
   "id": "26",
   "metadata": {},
   "outputs": [],
   "source": [
    "input_placeholder = dask.delayed(identity, pure = True)(da.arange(2))\n",
    "fx = f_delayed(input_placeholder)\n",
    "gx = g_delayed(fx)\n",
    "hx = h_delayed_serial(gx) # README: use the serial version of h\n",
    "mx = m_delayed(hx)\n",
    "input_key = input_placeholder.key\n",
    "computation = mx \n",
    "graph = dict(computation.dask) "
   ]
  },
  {
   "cell_type": "markdown",
   "id": "27",
   "metadata": {},
   "source": [
    "execute the thing again with a parallel scheduler - check how the CPU load behaves."
   ]
  },
  {
   "cell_type": "code",
   "execution_count": 15,
   "id": "28",
   "metadata": {},
   "outputs": [
    {
     "data": {
      "text/plain": [
       "np.float64(-1.8131285112853692e-05)"
      ]
     },
     "execution_count": 15,
     "metadata": {},
     "output_type": "execute_result"
    }
   ],
   "source": [
    "dask.config.set(scheduler='processes')  # make operations parallel\n",
    "graph[input_key] = input_data\n",
    "result = dask.get(graph, computation.key).compute()  # Use processes scheduler\n",
    "result"
   ]
  },
  {
   "cell_type": "markdown",
   "id": "2a35d023",
   "metadata": {},
   "source": [
    "## Custom dask graph "
   ]
  },
  {
   "cell_type": "code",
   "execution_count": 98,
   "id": "8115bc58",
   "metadata": {},
   "outputs": [],
   "source": [
    "import dask"
   ]
  },
  {
   "cell_type": "code",
   "execution_count": 100,
   "id": "379edab1",
   "metadata": {},
   "outputs": [],
   "source": [
    "def add(x, y):\n",
    "    return x + y\n",
    "\n",
    "def multiply(x, y):\n",
    "    return x * y\n",
    "\n",
    "def affine(x, a = 1, b = 0):\n",
    "    return a * x + b\n",
    "\n",
    "def save_data(x, filename):\n",
    "    np.save(filename, x)\n",
    "\n",
    "def read_data(filename):\n",
    "    return np.load(filename)"
   ]
  },
  {
   "cell_type": "code",
   "execution_count": 108,
   "id": "70a7613c",
   "metadata": {},
   "outputs": [],
   "source": [
    "import dask.delayed\n",
    "\n",
    "tasks = {\n",
    "    \"read\": dask.delayed(read_data),\n",
    "    \"add\":dask.delayed(add),\n",
    "    \"multiply\": dask.delayed(multiply), \n",
    "    \"affine\": dask.delayed(affine),\n",
    "    \"save\": dask.delayed(save_data),\n",
    "}\n",
    "\n",
    "read_node = tasks['read'](\"input_data.npy\")\n",
    "add_node = tasks['add'](read_node, 5)\n",
    "multiply_node = tasks['multiply'](add_node, read_node)\n",
    "affine_node = tasks['affine'](multiply_node, a=2, b=3)\n",
    "save_data_node = tasks['save'](affine_node, \"output_data.npy\")"
   ]
  },
  {
   "cell_type": "code",
   "execution_count": 109,
   "id": "a726996c",
   "metadata": {},
   "outputs": [],
   "source": [
    "import numpy as np\n",
    "input_data = np.random.rand(100) \n",
    "np.save(\"input_data.npy\", input_data)"
   ]
  },
  {
   "cell_type": "code",
   "execution_count": 110,
   "id": "1da545c6",
   "metadata": {},
   "outputs": [
    {
     "data": {
      "image/png": "[encoded data removed]",
      "text/plain": [
       "<IPython.core.display.Image object>"
      ]
     },
     "execution_count": 110,
     "metadata": {},
     "output_type": "execute_result"
    }
   ],
   "source": [
    "save_data_node.visualize()"
   ]
  },
  {
   "cell_type": "code",
   "execution_count": 111,
   "id": "a422ffdd",
   "metadata": {},
   "outputs": [],
   "source": [
    "save_data_node.compute()"
   ]
  },
  {
   "cell_type": "code",
   "execution_count": 112,
   "id": "8da05190",
   "metadata": {},
   "outputs": [
    {
     "data": {
      "text/plain": [
       "array([ 7.10941857,  8.35702935, 14.84886564, 11.38207125,  7.18510619,\n",
       "        3.66906895, 12.54621128,  4.84411714, 12.36806868,  5.3033671 ,\n",
       "        8.65103913, 14.87918018,  6.88040144,  5.85718609,  4.79831534,\n",
       "        8.47431415,  5.87605966,  6.05857219,  3.38954836, 12.73375802,\n",
       "        9.99786678,  5.54205697,  3.26142386,  5.59803628, 12.87766437,\n",
       "        5.27220128,  8.28875148,  8.7802487 , 11.75194584, 10.85591605,\n",
       "        5.35917065, 11.97301705, 11.68508028,  5.03746093,  6.58300293,\n",
       "       13.58332848, 12.46121247,  5.94672827,  4.15489768,  9.19910626,\n",
       "        9.15389375,  5.88331414,  8.52920549, 14.85349016,  5.06914026,\n",
       "        4.49397626,  7.11775551,  7.31329419,  9.01895907,  5.00030313,\n",
       "        3.54558348,  5.37363946,  6.11949439, 14.20512693, 13.26007235,\n",
       "        7.03030832,  8.31844485,  3.25476052, 12.55463013,  8.07887098,\n",
       "        5.94217016, 12.56629472, 14.394822  , 14.62201619, 12.60696562,\n",
       "       13.37517238, 13.33828332, 11.67503571,  3.6395812 ,  6.61413533,\n",
       "        7.87442353, 12.62830336, 10.24513036, 14.57710201,  6.06120965,\n",
       "        9.54863689,  5.35037837,  3.13899756,  8.35491453,  7.6365365 ,\n",
       "        9.99699086,  4.24207151,  5.20212697,  6.58769896, 11.03149626,\n",
       "        3.40988436, 11.63990783, 12.60892666, 13.41517702, 10.55743504,\n",
       "        8.73305977,  6.69038109,  4.56023553, 10.12300679, 13.68242391,\n",
       "        8.44712321,  5.25170737, 11.49445313, 10.95985648,  4.63273413])"
      ]
     },
     "execution_count": 112,
     "metadata": {},
     "output_type": "execute_result"
    }
   ],
   "source": [
    "output_data = np.load(\"output_data.npy\")\n",
    "output_data"
   ]
  },
  {
   "cell_type": "code",
   "execution_count": 113,
   "id": "4ed3d6c1",
   "metadata": {},
   "outputs": [
    {
     "data": {
      "text/plain": [
       "array([ 7.10941857,  8.35702935, 14.84886564, 11.38207125,  7.18510619,\n",
       "        3.66906895, 12.54621128,  4.84411714, 12.36806868,  5.3033671 ,\n",
       "        8.65103913, 14.87918018,  6.88040144,  5.85718609,  4.79831534,\n",
       "        8.47431415,  5.87605966,  6.05857219,  3.38954836, 12.73375802,\n",
       "        9.99786678,  5.54205697,  3.26142386,  5.59803628, 12.87766437,\n",
       "        5.27220128,  8.28875148,  8.7802487 , 11.75194584, 10.85591605,\n",
       "        5.35917065, 11.97301705, 11.68508028,  5.03746093,  6.58300293,\n",
       "       13.58332848, 12.46121247,  5.94672827,  4.15489768,  9.19910626,\n",
       "        9.15389375,  5.88331414,  8.52920549, 14.85349016,  5.06914026,\n",
       "        4.49397626,  7.11775551,  7.31329419,  9.01895907,  5.00030313,\n",
       "        3.54558348,  5.37363946,  6.11949439, 14.20512693, 13.26007235,\n",
       "        7.03030832,  8.31844485,  3.25476052, 12.55463013,  8.07887098,\n",
       "        5.94217016, 12.56629472, 14.394822  , 14.62201619, 12.60696562,\n",
       "       13.37517238, 13.33828332, 11.67503571,  3.6395812 ,  6.61413533,\n",
       "        7.87442353, 12.62830336, 10.24513036, 14.57710201,  6.06120965,\n",
       "        9.54863689,  5.35037837,  3.13899756,  8.35491453,  7.6365365 ,\n",
       "        9.99699086,  4.24207151,  5.20212697,  6.58769896, 11.03149626,\n",
       "        3.40988436, 11.63990783, 12.60892666, 13.41517702, 10.55743504,\n",
       "        8.73305977,  6.69038109,  4.56023553, 10.12300679, 13.68242391,\n",
       "        8.44712321,  5.25170737, 11.49445313, 10.95985648,  4.63273413])"
      ]
     },
     "execution_count": 113,
     "metadata": {},
     "output_type": "execute_result"
    }
   ],
   "source": [
    "2 * ((input_data + 5 ) * input_data ) + 3 "
   ]
  },
  {
   "cell_type": "code",
   "execution_count": null,
   "id": "bc7205a2",
   "metadata": {},
   "outputs": [],
   "source": []
  }
 ],
 "metadata": {
  "kernelspec": {
   "display_name": ".venv",
   "language": "python",
   "name": "python3"
  },
  "language_info": {
   "codemirror_mode": {
    "name": "ipython",
    "version": 3
   },
   "file_extension": ".py",
   "mimetype": "text/x-python",
   "name": "python",
   "nbconvert_exporter": "python",
   "pygments_lexer": "ipython3",
   "version": "3.12.3"
  }
 },
 "nbformat": 4,
 "nbformat_minor": 5
}
