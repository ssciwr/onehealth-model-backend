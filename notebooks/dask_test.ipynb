{
 "cells": [
  {
   "cell_type": "markdown",
   "id": "0",
   "metadata": {},
   "source": [
    "# Dask processing tests"
   ]
  },
  {
   "cell_type": "markdown",
   "id": "1",
   "metadata": {},
   "source": [
    "this needs graphviz for visualizations"
   ]
  },
  {
   "cell_type": "code",
   "execution_count": null,
   "id": "2",
   "metadata": {},
   "outputs": [],
   "source": [
    "import dask\n",
    "import dask.array as da\n",
    "import numpy as np\n"
   ]
  },
  {
   "cell_type": "markdown",
   "id": "3",
   "metadata": {},
   "source": [
    "## define a computational graph\n",
    "embarassingly parallel here "
   ]
  },
  {
   "cell_type": "code",
   "execution_count": null,
   "id": "4",
   "metadata": {},
   "outputs": [],
   "source": [
    "def f(x):\n",
    "    return x + 1\n",
    "\n",
    "def g(x):\n",
    "    return x * 2\n",
    "\n",
    "def h(x):\n",
    "    return x - 3\n",
    "\n",
    "def m(x):  \n",
    "    return da.mean(x)  # we can also use numpy.mean here if we want, but the latter will directly materialize the array. da.mean needs a 'compute' call to materialize the array instead\n",
    "\n",
    "def identity(x):\n",
    "    return x"
   ]
  },
  {
   "cell_type": "code",
   "execution_count": null,
   "id": "5",
   "metadata": {},
   "outputs": [],
   "source": [
    "f_delayed = dask.delayed(f)\n",
    "g_delayed = dask.delayed(g)\n",
    "h_delayed = dask.delayed(h)\n",
    "m_delayed = dask.delayed(m)"
   ]
  },
  {
   "cell_type": "code",
   "execution_count": null,
   "id": "6",
   "metadata": {},
   "outputs": [],
   "source": [
    "input_placeholder = dask.delayed(identity, pure = True)(da.arange(2))\n",
    "fx = f_delayed(input_placeholder)\n",
    "gx = g_delayed(fx)\n",
    "hx = h_delayed(gx)\n",
    "mx = m_delayed(hx)\n",
    "input_key = input_placeholder.key\n",
    "computation = mx \n",
    "graph = dict(computation.dask)"
   ]
  },
  {
   "cell_type": "code",
   "execution_count": null,
   "id": "7",
   "metadata": {},
   "outputs": [],
   "source": [
    "input_key"
   ]
  },
  {
   "cell_type": "code",
   "execution_count": null,
   "id": "8",
   "metadata": {},
   "outputs": [],
   "source": [
    "computation"
   ]
  },
  {
   "cell_type": "code",
   "execution_count": null,
   "id": "9",
   "metadata": {},
   "outputs": [],
   "source": [
    "graph"
   ]
  },
  {
   "cell_type": "code",
   "execution_count": null,
   "id": "10",
   "metadata": {},
   "outputs": [],
   "source": [
    "dask.visualize(computation, filename='dask_graph.svg', format='svg')\n",
    "# Save the graph to a file"
   ]
  },
  {
   "cell_type": "markdown",
   "id": "11",
   "metadata": {},
   "source": [
    "### Execute with dask"
   ]
  },
  {
   "cell_type": "markdown",
   "id": "12",
   "metadata": {},
   "source": [
    "replace input with something more supstantial"
   ]
  },
  {
   "cell_type": "code",
   "execution_count": null,
   "id": "13",
   "metadata": {},
   "outputs": [],
   "source": [
    "og_data = np.random.rand(int(1e9))"
   ]
  },
  {
   "cell_type": "markdown",
   "id": "14",
   "metadata": {},
   "source": [
    "wrap numpy array into dask array. only for the experiments here"
   ]
  },
  {
   "cell_type": "code",
   "execution_count": null,
   "id": "15",
   "metadata": {},
   "outputs": [],
   "source": [
    "input_data = da.from_array(og_data, chunks=(int(1e6),))"
   ]
  },
  {
   "cell_type": "markdown",
   "id": "16",
   "metadata": {},
   "source": [
    "built the result by hand to be able to check it "
   ]
  },
  {
   "cell_type": "markdown",
   "id": "17",
   "metadata": {},
   "source": [
    "replace input of graph with new input and compute result "
   ]
  },
  {
   "cell_type": "code",
   "execution_count": null,
   "id": "18",
   "metadata": {},
   "outputs": [],
   "source": [
    "dask.config.set(scheduler='synchronous') # make ALL operations synchronous\n",
    "graph[input_key] = input_data \n",
    "result = dask.get(graph, mx.key,).compute()\n",
    "result"
   ]
  },
  {
   "cell_type": "markdown",
   "id": "19",
   "metadata": {},
   "source": [
    "try with parallel scheduler"
   ]
  },
  {
   "cell_type": "code",
   "execution_count": null,
   "id": "20",
   "metadata": {},
   "outputs": [],
   "source": [
    "dask.config.set(scheduler='processes') \n",
    "\n",
    "graph[input_key] = input_data \n",
    "result = dask.get(graph, mx.key).compute()  # Use processes scheduler\n",
    "result"
   ]
  },
  {
   "cell_type": "markdown",
   "id": "21",
   "metadata": {},
   "source": [
    "for dataframes, have a look [here](https://examples.dask.org/dataframe.html), for xarray, check [this](https://docs.xarray.dev/en/stable/user-guide/dask.html) out, and [that](https://examples.dask.org/xarray.html?highlight=schedulers) "
   ]
  },
  {
   "cell_type": "markdown",
   "id": "22",
   "metadata": {},
   "source": [
    "## Partial parallelization of a computational graph with `dask.annotate`"
   ]
  },
  {
   "cell_type": "markdown",
   "id": "23",
   "metadata": {},
   "source": [
    "annotate `h` to be serial only"
   ]
  },
  {
   "cell_type": "code",
   "execution_count": null,
   "id": "24",
   "metadata": {},
   "outputs": [],
   "source": [
    "\n",
    "def h_single(x): \n",
    "    with dask.config.set(scheduler='synchronous'):\n",
    "        hx =  h(x)\n",
    "    return hx.rechunk('auto') # re-split the data again to make downstream operations parallel\n",
    "\n",
    "h_delayed_serial = dask.delayed(h_single)"
   ]
  },
  {
   "cell_type": "markdown",
   "id": "25",
   "metadata": {},
   "source": [
    "build up the graph again"
   ]
  },
  {
   "cell_type": "code",
   "execution_count": null,
   "id": "26",
   "metadata": {},
   "outputs": [],
   "source": [
    "input_placeholder = dask.delayed(identity, pure = True)(da.arange(2))\n",
    "fx = f_delayed(input_placeholder)\n",
    "gx = g_delayed(fx)\n",
    "hx = h_delayed_serial(gx) # README: use the serial version of h\n",
    "mx = m_delayed(hx)\n",
    "input_key = input_placeholder.key\n",
    "computation = mx \n",
    "graph = dict(computation.dask) "
   ]
  },
  {
   "cell_type": "markdown",
   "id": "27",
   "metadata": {},
   "source": [
    "execute the thing again with a parallel scheduler - check how the CPU load behaves."
   ]
  },
  {
   "cell_type": "code",
   "execution_count": null,
   "id": "28",
   "metadata": {},
   "outputs": [],
   "source": [
    "dask.config.set(scheduler='processes')  # make operations parallel\n",
    "graph[input_key] = input_data\n",
    "result = dask.get(graph, computation.key).compute()  # Use processes scheduler\n",
    "result"
   ]
  },
  {
   "cell_type": "markdown",
   "id": "29",
   "metadata": {},
   "source": [
    "## Custom dask graph "
   ]
  },
  {
   "cell_type": "code",
   "execution_count": null,
   "id": "30",
   "metadata": {},
   "outputs": [],
   "source": [
    "import dask"
   ]
  },
  {
   "cell_type": "code",
   "execution_count": null,
   "id": "31",
   "metadata": {},
   "outputs": [],
   "source": [
    "def add(x, y):\n",
    "    return x + y\n",
    "\n",
    "def multiply(x, y):\n",
    "    return x * y\n",
    "\n",
    "def affine(x, a = 1, b = 0):\n",
    "    return a * x + b\n",
    "\n",
    "def save_data(x, filename):\n",
    "    np.save(filename, x)\n",
    "\n",
    "def read_data(filename):\n",
    "    return np.load(filename)"
   ]
  },
  {
   "cell_type": "code",
   "execution_count": null,
   "id": "32",
   "metadata": {},
   "outputs": [],
   "source": [
    "import dask.delayed\n",
    "\n",
    "tasks = {\n",
    "    \"read\": dask.delayed(read_data),\n",
    "    \"add\":dask.delayed(add),\n",
    "    \"multiply\": dask.delayed(multiply), \n",
    "    \"affine\": dask.delayed(affine),\n",
    "    \"save\": dask.delayed(save_data),\n",
    "}\n",
    "\n",
    "read_node = tasks['read'](\"input_data.npy\")\n",
    "add_node = tasks['add'](read_node, 5)\n",
    "multiply_node = tasks['multiply'](add_node, read_node)\n",
    "affine_node = tasks['affine'](multiply_node, a=2, b=3)\n",
    "save_data_node = tasks['save'](affine_node, \"output_data.npy\")"
   ]
  },
  {
   "cell_type": "code",
   "execution_count": null,
   "id": "33",
   "metadata": {},
   "outputs": [],
   "source": [
    "import numpy as np\n",
    "input_data = np.random.rand(100) \n",
    "np.save(\"input_data.npy\", input_data)"
   ]
  },
  {
   "cell_type": "code",
   "execution_count": null,
   "id": "34",
   "metadata": {},
   "outputs": [],
   "source": [
    "save_data_node.visualize()"
   ]
  },
  {
   "cell_type": "code",
   "execution_count": null,
   "id": "35",
   "metadata": {},
   "outputs": [],
   "source": [
    "save_data_node.compute()"
   ]
  },
  {
   "cell_type": "code",
   "execution_count": null,
   "id": "36",
   "metadata": {},
   "outputs": [],
   "source": [
    "output_data = np.load(\"output_data.npy\")\n",
    "output_data"
   ]
  },
  {
   "cell_type": "code",
   "execution_count": null,
   "id": "37",
   "metadata": {},
   "outputs": [],
   "source": [
    "2 * ((input_data + 5 ) * input_data ) + 3 "
   ]
  },
  {
   "cell_type": "code",
   "execution_count": null,
   "id": "38",
   "metadata": {},
   "outputs": [],
   "source": []
  }
 ],
 "metadata": {
  "kernelspec": {
   "display_name": ".venv",
   "language": "python",
   "name": "python3"
  },
  "language_info": {
   "codemirror_mode": {
    "name": "ipython",
    "version": 3
   },
   "file_extension": ".py",
   "mimetype": "text/x-python",
   "name": "python",
   "nbconvert_exporter": "python",
   "pygments_lexer": "ipython3",
   "version": "3.12.3"
  }
 },
 "nbformat": 4,
 "nbformat_minor": 5
}
