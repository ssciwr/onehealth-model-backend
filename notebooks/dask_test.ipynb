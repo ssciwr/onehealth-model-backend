{
 "cells": [
  {
   "cell_type": "markdown",
   "id": "f42634f5",
   "metadata": {},
   "source": [
    "# Dask processing tests"
   ]
  },
  {
   "cell_type": "markdown",
   "id": "9ae7ae1a",
   "metadata": {},
   "source": [
    "this needs graphviz for visualizations"
   ]
  },
  {
   "cell_type": "code",
   "execution_count": 1,
   "id": "f8ee042d",
   "metadata": {},
   "outputs": [],
   "source": [
    "import dask\n",
    "import dask.array as da\n",
    "import numpy as np\n"
   ]
  },
  {
   "cell_type": "markdown",
   "id": "5b7ca34e",
   "metadata": {},
   "source": [
    "## define a computational graph\n",
    "embarassingly parallel here "
   ]
  },
  {
   "cell_type": "code",
   "execution_count": 14,
   "id": "828eb127",
   "metadata": {},
   "outputs": [],
   "source": [
    "def f(x):\n",
    "    return x + 1\n",
    "\n",
    "def g(x):\n",
    "    return x * 2\n",
    "\n",
    "def h(x):\n",
    "    return x - 3\n",
    "\n",
    "def m(x):  \n",
    "    return da.mean(x)  # we can also use numpy.mean here if we want, but the latter will directly materialize the array. da.mean needs a 'compute' call to materialize the array instead\n",
    "\n",
    "def identity(x):\n",
    "    return x"
   ]
  },
  {
   "cell_type": "code",
   "execution_count": 3,
   "id": "320a3f17",
   "metadata": {},
   "outputs": [],
   "source": [
    "f_delayed = dask.delayed(f)\n",
    "g_delayed = dask.delayed(g)\n",
    "h_delayed = dask.delayed(h)\n",
    "m_delayed = dask.delayed(m)"
   ]
  },
  {
   "cell_type": "code",
   "execution_count": 4,
   "id": "b175fc8d",
   "metadata": {},
   "outputs": [],
   "source": [
    "input_placeholder = dask.delayed(identity, pure = True)(da.arange(2))\n",
    "fx = f_delayed(input_placeholder)\n",
    "gx = g_delayed(fx)\n",
    "hx = h_delayed(gx)\n",
    "mx = m_delayed(hx)\n",
    "input_key = input_placeholder.key\n",
    "computation = mx \n",
    "graph = dict(computation.dask)"
   ]
  },
  {
   "cell_type": "code",
   "execution_count": 5,
   "id": "b092a27f",
   "metadata": {},
   "outputs": [
    {
     "data": {
      "text/plain": [
       "'identity-a6a84f881da07f5791b1695d91e07114'"
      ]
     },
     "execution_count": 5,
     "metadata": {},
     "output_type": "execute_result"
    }
   ],
   "source": [
    "input_key"
   ]
  },
  {
   "cell_type": "code",
   "execution_count": 6,
   "id": "09cd1d15",
   "metadata": {},
   "outputs": [
    {
     "data": {
      "text/plain": [
       "Delayed('m-424caf63-77cc-4c18-9ff6-9b8256032a59')"
      ]
     },
     "execution_count": 6,
     "metadata": {},
     "output_type": "execute_result"
    }
   ],
   "source": [
    "computation"
   ]
  },
  {
   "cell_type": "code",
   "execution_count": 7,
   "id": "8d6ff1f8",
   "metadata": {},
   "outputs": [
    {
     "data": {
      "text/plain": [
       "{'identity-a6a84f881da07f5791b1695d91e07114': <Task 'identity-a6a84f881da07f5791b1695d91e07114' identity(...)>,\n",
       " 'arange-finalize-hlgfinalizecompute-169910bd98c4433993ceb9965139a15b-4f00fe128e6c4d0cb88b35b6219db108': <Task 'arange-finalize-hlgfinalizecompute-169910bd98c4433993ceb9965139a15b-4f00fe128e6c4d0cb88b35b6219db108' _identity(...)>,\n",
       " 'finalize-hlgfinalizecompute-169910bd98c4433993ceb9965139a15b-4f00fe128e6c4d0cb88b35b6219db108': <Task 'finalize-hlgfinalizecompute-169910bd98c4433993ceb9965139a15b-4f00fe128e6c4d0cb88b35b6219db108' _identity(...)>,\n",
       " 'arange-finalize-hlgfinalizecompute-169910bd98c4433993ceb9965139a15b': <Task 'arange-finalize-hlgfinalizecompute-169910bd98c4433993ceb9965139a15b' _execute_subgraph(...)>,\n",
       " 'finalize-hlgfinalizecompute-169910bd98c4433993ceb9965139a15b': Alias('finalize-hlgfinalizecompute-169910bd98c4433993ceb9965139a15b'->'arange-finalize-hlgfinalizecompute-169910bd98c4433993ceb9965139a15b'),\n",
       " 'f-5227683a-0004-4891-bffe-4c5c192e3951': <Task 'f-5227683a-0004-4891-bffe-4c5c192e3951' f(...)>,\n",
       " 'g-fc061cd3-bbe2-48f6-ac50-f18ecd158b5c': <Task 'g-fc061cd3-bbe2-48f6-ac50-f18ecd158b5c' g(...)>,\n",
       " 'h-bafece39-f4d2-499e-b269-f05aa4662d3c': <Task 'h-bafece39-f4d2-499e-b269-f05aa4662d3c' h(...)>,\n",
       " 'm-424caf63-77cc-4c18-9ff6-9b8256032a59': <Task 'm-424caf63-77cc-4c18-9ff6-9b8256032a59' m(...)>}"
      ]
     },
     "execution_count": 7,
     "metadata": {},
     "output_type": "execute_result"
    }
   ],
   "source": [
    "graph"
   ]
  },
  {
   "cell_type": "code",
   "execution_count": 8,
   "id": "85c0e51a",
   "metadata": {},
   "outputs": [
    {
     "data": {
      "image/svg+xml": [
       "<svg xmlns=\"http://www.w3.org/2000/svg\" xmlns:xlink=\"http://www.w3.org/1999/xlink\" width=\"554pt\" height=\"1313pt\" viewBox=\"0.00 0.00 553.88 1313.06\">\n",
       "<g id=\"graph0\" class=\"graph\" transform=\"scale(1 1) rotate(0) translate(4 1309.06)\">\n",
       "<title>%3</title>\n",
       "<polygon fill=\"white\" stroke=\"transparent\" points=\"-4,4 -4,-1309.06 549.88,-1309.06 549.88,4 -4,4\"/>\n",
       "<!-- 4532995483725582620 -->\n",
       "<g id=\"node1\" class=\"node\">\n",
       "<title>4532995483725582620</title>\n",
       "<ellipse fill=\"none\" stroke=\"black\" cx=\"131.94\" cy=\"-609.22\" rx=\"44.69\" ry=\"44.69\"/>\n",
       "<text text-anchor=\"middle\" x=\"131.94\" y=\"-605.52\" font-family=\"Helvetica,sans-Serif\" font-size=\"14.00\">identity</text>\n",
       "</g>\n",
       "<!-- 2996073273986048661 -->\n",
       "<g id=\"node2\" class=\"node\">\n",
       "<title>2996073273986048661</title>\n",
       "<polygon fill=\"none\" stroke=\"black\" points=\"158.94,-726.06 104.94,-726.06 104.94,-690.06 158.94,-690.06 158.94,-726.06\"/>\n",
       "</g>\n",
       "<!-- 4532995483725582620&#45;&gt;2996073273986048661 -->\n",
       "<g id=\"edge1\" class=\"edge\">\n",
       "<title>4532995483725582620-&gt;2996073273986048661</title>\n",
       "<path fill=\"none\" stroke=\"black\" d=\"M131.94,-654.1C131.94,-662.78 131.94,-671.64 131.94,-679.58\"/>\n",
       "<polygon fill=\"black\" stroke=\"black\" points=\"128.44,-679.72 131.94,-689.72 135.44,-679.72 128.44,-679.72\"/>\n",
       "</g>\n",
       "<!-- &#45;7076745262113357277 -->\n",
       "<g id=\"node11\" class=\"node\">\n",
       "<title>-7076745262113357277</title>\n",
       "<ellipse fill=\"none\" stroke=\"black\" cx=\"131.94\" cy=\"-780.06\" rx=\"18\" ry=\"18\"/>\n",
       "<text text-anchor=\"middle\" x=\"131.94\" y=\"-776.36\" font-family=\"Helvetica,sans-Serif\" font-size=\"14.00\">f</text>\n",
       "</g>\n",
       "<!-- 2996073273986048661&#45;&gt;&#45;7076745262113357277 -->\n",
       "<g id=\"edge10\" class=\"edge\">\n",
       "<title>2996073273986048661-&gt;-7076745262113357277</title>\n",
       "<path fill=\"none\" stroke=\"black\" d=\"M131.94,-726.36C131.94,-734.08 131.94,-743.35 131.94,-751.95\"/>\n",
       "<polygon fill=\"black\" stroke=\"black\" points=\"128.44,-751.96 131.94,-761.96 135.44,-751.96 128.44,-751.96\"/>\n",
       "</g>\n",
       "<!-- &#45;7513059877340692842 -->\n",
       "<g id=\"node3\" class=\"node\">\n",
       "<title>-7513059877340692842</title>\n",
       "<polygon fill=\"none\" stroke=\"black\" points=\"158.94,-528.37 104.94,-528.37 104.94,-492.37 158.94,-492.37 158.94,-528.37\"/>\n",
       "</g>\n",
       "<!-- &#45;7513059877340692842&#45;&gt;4532995483725582620 -->\n",
       "<g id=\"edge2\" class=\"edge\">\n",
       "<title>-7513059877340692842-&gt;4532995483725582620</title>\n",
       "<path fill=\"none\" stroke=\"black\" d=\"M131.94,-528.68C131.94,-535.96 131.94,-544.85 131.94,-554.03\"/>\n",
       "<polygon fill=\"black\" stroke=\"black\" points=\"128.44,-554.03 131.94,-564.03 135.44,-554.03 128.44,-554.03\"/>\n",
       "</g>\n",
       "<!-- 8587696958584787507 -->\n",
       "<g id=\"node4\" class=\"node\">\n",
       "<title>8587696958584787507</title>\n",
       "<ellipse fill=\"none\" stroke=\"black\" cx=\"131.94\" cy=\"-42.25\" rx=\"42.49\" ry=\"42.49\"/>\n",
       "<text text-anchor=\"middle\" x=\"131.94\" y=\"-38.55\" font-family=\"Helvetica,sans-Serif\" font-size=\"14.00\">arange</text>\n",
       "</g>\n",
       "<!-- &#45;7101162946302226318 -->\n",
       "<g id=\"node5\" class=\"node\">\n",
       "<title>-7101162946302226318</title>\n",
       "<polygon fill=\"none\" stroke=\"black\" points=\"158.94,-156.49 104.94,-156.49 104.94,-120.49 158.94,-120.49 158.94,-156.49\"/>\n",
       "</g>\n",
       "<!-- 8587696958584787507&#45;&gt;&#45;7101162946302226318 -->\n",
       "<g id=\"edge3\" class=\"edge\">\n",
       "<title>8587696958584787507-&gt;-7101162946302226318</title>\n",
       "<path fill=\"none\" stroke=\"black\" d=\"M131.94,-84.58C131.94,-93.15 131.94,-101.98 131.94,-109.91\"/>\n",
       "<polygon fill=\"black\" stroke=\"black\" points=\"128.44,-110.06 131.94,-120.06 135.44,-110.06 128.44,-110.06\"/>\n",
       "</g>\n",
       "<!-- &#45;257280897673773037 -->\n",
       "<g id=\"node6\" class=\"node\">\n",
       "<title>-257280897673773037</title>\n",
       "<ellipse fill=\"none\" stroke=\"black\" cx=\"131.94\" cy=\"-324.43\" rx=\"131.88\" ry=\"131.88\"/>\n",
       "<text text-anchor=\"middle\" x=\"131.94\" y=\"-320.73\" font-family=\"Helvetica,sans-Serif\" font-size=\"14.00\">finalize-hlgfinalizecompute</text>\n",
       "</g>\n",
       "<!-- &#45;7101162946302226318&#45;&gt;&#45;257280897673773037 -->\n",
       "<g id=\"edge5\" class=\"edge\">\n",
       "<title>-7101162946302226318-&gt;-257280897673773037</title>\n",
       "<path fill=\"none\" stroke=\"black\" d=\"M131.94,-156.8C131.94,-163.77 131.94,-172.49 131.94,-182.26\"/>\n",
       "<polygon fill=\"black\" stroke=\"black\" points=\"128.44,-182.35 131.94,-192.35 135.44,-182.35 128.44,-182.35\"/>\n",
       "</g>\n",
       "<!-- &#45;257280897673773037&#45;&gt;&#45;7513059877340692842 -->\n",
       "<g id=\"edge4\" class=\"edge\">\n",
       "<title>-257280897673773037-&gt;-7513059877340692842</title>\n",
       "<path fill=\"none\" stroke=\"black\" d=\"M131.94,-456.66C131.94,-466.02 131.94,-474.71 131.94,-482.23\"/>\n",
       "<polygon fill=\"black\" stroke=\"black\" points=\"128.44,-482.34 131.94,-492.34 135.44,-482.34 128.44,-482.34\"/>\n",
       "</g>\n",
       "<!-- &#45;4645198027384652592 -->\n",
       "<g id=\"node7\" class=\"node\">\n",
       "<title>-4645198027384652592</title>\n",
       "<ellipse fill=\"none\" stroke=\"black\" cx=\"413.94\" cy=\"-42.25\" rx=\"42.49\" ry=\"42.49\"/>\n",
       "<text text-anchor=\"middle\" x=\"413.94\" y=\"-38.55\" font-family=\"Helvetica,sans-Serif\" font-size=\"14.00\">arange</text>\n",
       "</g>\n",
       "<!-- &#45;5973531735963313507 -->\n",
       "<g id=\"node8\" class=\"node\">\n",
       "<title>-5973531735963313507</title>\n",
       "<polygon fill=\"none\" stroke=\"black\" points=\"440.94,-156.49 386.94,-156.49 386.94,-120.49 440.94,-120.49 440.94,-156.49\"/>\n",
       "</g>\n",
       "<!-- &#45;4645198027384652592&#45;&gt;&#45;5973531735963313507 -->\n",
       "<g id=\"edge6\" class=\"edge\">\n",
       "<title>-4645198027384652592-&gt;-5973531735963313507</title>\n",
       "<path fill=\"none\" stroke=\"black\" d=\"M413.94,-84.58C413.94,-93.15 413.94,-101.98 413.94,-109.91\"/>\n",
       "<polygon fill=\"black\" stroke=\"black\" points=\"410.44,-110.06 413.94,-120.06 417.44,-110.06 410.44,-110.06\"/>\n",
       "</g>\n",
       "<!-- &#45;6812707927645013715 -->\n",
       "<g id=\"node9\" class=\"node\">\n",
       "<title>-6812707927645013715</title>\n",
       "<ellipse fill=\"none\" stroke=\"black\" cx=\"413.94\" cy=\"-324.43\" rx=\"131.88\" ry=\"131.88\"/>\n",
       "<text text-anchor=\"middle\" x=\"413.94\" y=\"-320.73\" font-family=\"Helvetica,sans-Serif\" font-size=\"14.00\">finalize-hlgfinalizecompute</text>\n",
       "</g>\n",
       "<!-- &#45;5973531735963313507&#45;&gt;&#45;6812707927645013715 -->\n",
       "<g id=\"edge8\" class=\"edge\">\n",
       "<title>-5973531735963313507-&gt;-6812707927645013715</title>\n",
       "<path fill=\"none\" stroke=\"black\" d=\"M413.94,-156.8C413.94,-163.77 413.94,-172.49 413.94,-182.26\"/>\n",
       "<polygon fill=\"black\" stroke=\"black\" points=\"410.44,-182.35 413.94,-192.35 417.44,-182.35 410.44,-182.35\"/>\n",
       "</g>\n",
       "<!-- &#45;6334898295119408377 -->\n",
       "<g id=\"node10\" class=\"node\">\n",
       "<title>-6334898295119408377</title>\n",
       "<polygon fill=\"none\" stroke=\"black\" points=\"440.94,-528.37 386.94,-528.37 386.94,-492.37 440.94,-492.37 440.94,-528.37\"/>\n",
       "</g>\n",
       "<!-- &#45;6812707927645013715&#45;&gt;&#45;6334898295119408377 -->\n",
       "<g id=\"edge7\" class=\"edge\">\n",
       "<title>-6812707927645013715-&gt;-6334898295119408377</title>\n",
       "<path fill=\"none\" stroke=\"black\" d=\"M413.94,-456.66C413.94,-466.02 413.94,-474.71 413.94,-482.23\"/>\n",
       "<polygon fill=\"black\" stroke=\"black\" points=\"410.44,-482.34 413.94,-492.34 417.44,-482.34 410.44,-482.34\"/>\n",
       "</g>\n",
       "<!-- &#45;4278390509866558541 -->\n",
       "<g id=\"node12\" class=\"node\">\n",
       "<title>-4278390509866558541</title>\n",
       "<polygon fill=\"none\" stroke=\"black\" points=\"158.94,-870.06 104.94,-870.06 104.94,-834.06 158.94,-834.06 158.94,-870.06\"/>\n",
       "</g>\n",
       "<!-- &#45;7076745262113357277&#45;&gt;&#45;4278390509866558541 -->\n",
       "<g id=\"edge9\" class=\"edge\">\n",
       "<title>-7076745262113357277-&gt;-4278390509866558541</title>\n",
       "<path fill=\"none\" stroke=\"black\" d=\"M131.94,-798.36C131.94,-806.08 131.94,-815.35 131.94,-823.95\"/>\n",
       "<polygon fill=\"black\" stroke=\"black\" points=\"128.44,-823.96 131.94,-833.96 135.44,-823.96 128.44,-823.96\"/>\n",
       "</g>\n",
       "<!-- &#45;6360116110726776279 -->\n",
       "<g id=\"node13\" class=\"node\">\n",
       "<title>-6360116110726776279</title>\n",
       "<ellipse fill=\"none\" stroke=\"black\" cx=\"131.94\" cy=\"-924.06\" rx=\"18\" ry=\"18\"/>\n",
       "<text text-anchor=\"middle\" x=\"131.94\" y=\"-920.36\" font-family=\"Helvetica,sans-Serif\" font-size=\"14.00\">g</text>\n",
       "</g>\n",
       "<!-- &#45;4278390509866558541&#45;&gt;&#45;6360116110726776279 -->\n",
       "<g id=\"edge12\" class=\"edge\">\n",
       "<title>-4278390509866558541-&gt;-6360116110726776279</title>\n",
       "<path fill=\"none\" stroke=\"black\" d=\"M131.94,-870.36C131.94,-878.08 131.94,-887.35 131.94,-895.95\"/>\n",
       "<polygon fill=\"black\" stroke=\"black\" points=\"128.44,-895.96 131.94,-905.96 135.44,-895.96 128.44,-895.96\"/>\n",
       "</g>\n",
       "<!-- &#45;1495354685757846971 -->\n",
       "<g id=\"node14\" class=\"node\">\n",
       "<title>-1495354685757846971</title>\n",
       "<polygon fill=\"none\" stroke=\"black\" points=\"158.94,-1014.06 104.94,-1014.06 104.94,-978.06 158.94,-978.06 158.94,-1014.06\"/>\n",
       "</g>\n",
       "<!-- &#45;6360116110726776279&#45;&gt;&#45;1495354685757846971 -->\n",
       "<g id=\"edge11\" class=\"edge\">\n",
       "<title>-6360116110726776279-&gt;-1495354685757846971</title>\n",
       "<path fill=\"none\" stroke=\"black\" d=\"M131.94,-942.36C131.94,-950.08 131.94,-959.35 131.94,-967.95\"/>\n",
       "<polygon fill=\"black\" stroke=\"black\" points=\"128.44,-967.96 131.94,-977.96 135.44,-967.96 128.44,-967.96\"/>\n",
       "</g>\n",
       "<!-- 4990864301211616809 -->\n",
       "<g id=\"node15\" class=\"node\">\n",
       "<title>4990864301211616809</title>\n",
       "<ellipse fill=\"none\" stroke=\"black\" cx=\"131.94\" cy=\"-1068.06\" rx=\"18\" ry=\"18\"/>\n",
       "<text text-anchor=\"middle\" x=\"131.94\" y=\"-1064.36\" font-family=\"Helvetica,sans-Serif\" font-size=\"14.00\">h</text>\n",
       "</g>\n",
       "<!-- &#45;1495354685757846971&#45;&gt;4990864301211616809 -->\n",
       "<g id=\"edge14\" class=\"edge\">\n",
       "<title>-1495354685757846971-&gt;4990864301211616809</title>\n",
       "<path fill=\"none\" stroke=\"black\" d=\"M131.94,-1014.36C131.94,-1022.08 131.94,-1031.35 131.94,-1039.95\"/>\n",
       "<polygon fill=\"black\" stroke=\"black\" points=\"128.44,-1039.96 131.94,-1049.96 135.44,-1039.96 128.44,-1039.96\"/>\n",
       "</g>\n",
       "<!-- &#45;1846158185132844820 -->\n",
       "<g id=\"node16\" class=\"node\">\n",
       "<title>-1846158185132844820</title>\n",
       "<polygon fill=\"none\" stroke=\"black\" points=\"158.94,-1158.06 104.94,-1158.06 104.94,-1122.06 158.94,-1122.06 158.94,-1158.06\"/>\n",
       "</g>\n",
       "<!-- 4990864301211616809&#45;&gt;&#45;1846158185132844820 -->\n",
       "<g id=\"edge13\" class=\"edge\">\n",
       "<title>4990864301211616809-&gt;-1846158185132844820</title>\n",
       "<path fill=\"none\" stroke=\"black\" d=\"M131.94,-1086.36C131.94,-1094.08 131.94,-1103.35 131.94,-1111.95\"/>\n",
       "<polygon fill=\"black\" stroke=\"black\" points=\"128.44,-1111.96 131.94,-1121.96 135.44,-1111.96 128.44,-1111.96\"/>\n",
       "</g>\n",
       "<!-- 2108828982169737293 -->\n",
       "<g id=\"node17\" class=\"node\">\n",
       "<title>2108828982169737293</title>\n",
       "<ellipse fill=\"none\" stroke=\"black\" cx=\"131.94\" cy=\"-1213.56\" rx=\"19.5\" ry=\"19.5\"/>\n",
       "<text text-anchor=\"middle\" x=\"131.94\" y=\"-1209.86\" font-family=\"Helvetica,sans-Serif\" font-size=\"14.00\">m</text>\n",
       "</g>\n",
       "<!-- &#45;1846158185132844820&#45;&gt;2108828982169737293 -->\n",
       "<g id=\"edge16\" class=\"edge\">\n",
       "<title>-1846158185132844820-&gt;2108828982169737293</title>\n",
       "<path fill=\"none\" stroke=\"black\" d=\"M131.94,-1158.37C131.94,-1166.01 131.94,-1175.19 131.94,-1183.82\"/>\n",
       "<polygon fill=\"black\" stroke=\"black\" points=\"128.44,-1183.91 131.94,-1193.91 135.44,-1183.91 128.44,-1183.91\"/>\n",
       "</g>\n",
       "<!-- 2983061508358395512 -->\n",
       "<g id=\"node18\" class=\"node\">\n",
       "<title>2983061508358395512</title>\n",
       "<polygon fill=\"none\" stroke=\"black\" points=\"158.94,-1305.06 104.94,-1305.06 104.94,-1269.06 158.94,-1269.06 158.94,-1305.06\"/>\n",
       "</g>\n",
       "<!-- 2108828982169737293&#45;&gt;2983061508358395512 -->\n",
       "<g id=\"edge15\" class=\"edge\">\n",
       "<title>2108828982169737293-&gt;2983061508358395512</title>\n",
       "<path fill=\"none\" stroke=\"black\" d=\"M131.94,-1233.34C131.94,-1241.02 131.94,-1250.06 131.94,-1258.47\"/>\n",
       "<polygon fill=\"black\" stroke=\"black\" points=\"128.44,-1258.62 131.94,-1268.62 135.44,-1258.62 128.44,-1258.62\"/>\n",
       "</g>\n",
       "</g>\n",
       "</svg>"
      ],
      "text/plain": [
       "<IPython.core.display.SVG object>"
      ]
     },
     "execution_count": 8,
     "metadata": {},
     "output_type": "execute_result"
    }
   ],
   "source": [
    "dask.visualize(computation, filename='dask_graph.svg', format='svg')\n",
    "# Save the graph to a file"
   ]
  },
  {
   "cell_type": "markdown",
   "id": "9a6fb55c",
   "metadata": {},
   "source": [
    "### Execute with dask"
   ]
  },
  {
   "cell_type": "markdown",
   "id": "fe8b2d85",
   "metadata": {},
   "source": [
    "replace input with something more supstantial"
   ]
  },
  {
   "cell_type": "code",
   "execution_count": 9,
   "id": "10996197",
   "metadata": {},
   "outputs": [],
   "source": [
    "og_data = np.random.rand(int(1e9))"
   ]
  },
  {
   "cell_type": "markdown",
   "id": "511eb2fa",
   "metadata": {},
   "source": [
    "wrap numpy array into dask array. only for the experiments here"
   ]
  },
  {
   "cell_type": "code",
   "execution_count": 10,
   "id": "27ced889",
   "metadata": {},
   "outputs": [],
   "source": [
    "input_data = da.from_array(og_data, chunks=(int(1e6),))"
   ]
  },
  {
   "cell_type": "markdown",
   "id": "ce334f8a",
   "metadata": {},
   "source": [
    "built the result by hand to be able to check it "
   ]
  },
  {
   "cell_type": "markdown",
   "id": "4cde8748",
   "metadata": {},
   "source": [
    "replace input of graph with new input and compute result "
   ]
  },
  {
   "cell_type": "code",
   "execution_count": null,
   "id": "7918f5fc",
   "metadata": {},
   "outputs": [
    {
     "data": {
      "text/plain": [
       "np.float64(-2.1029186884507914e-05)"
      ]
     },
     "execution_count": 17,
     "metadata": {},
     "output_type": "execute_result"
    }
   ],
   "source": [
    "dask.config.set(scheduler='synchronous') # make ALL operations synchronous\n",
    "graph[input_key] = input_data \n",
    "result = dask.get(graph, mx.key,).compute()\n",
    "result"
   ]
  },
  {
   "cell_type": "markdown",
   "id": "111573c0",
   "metadata": {},
   "source": [
    "try with parallel scheduler"
   ]
  },
  {
   "cell_type": "code",
   "execution_count": null,
   "id": "5856bd2d",
   "metadata": {},
   "outputs": [
    {
     "data": {
      "text/plain": [
       "np.float64(-2.1029186884507914e-05)"
      ]
     },
     "execution_count": 18,
     "metadata": {},
     "output_type": "execute_result"
    }
   ],
   "source": [
    "dask.config.set(scheduler='processes') \n",
    "\n",
    "graph[input_key] = input_data \n",
    "result = dask.get(graph, mx.key).compute()  # Use processes scheduler\n",
    "result"
   ]
  },
  {
   "cell_type": "markdown",
   "id": "71be6e7f",
   "metadata": {},
   "source": [
    "for dataframes, have a look [here](https://examples.dask.org/dataframe.html), for xarray, check [this](https://docs.xarray.dev/en/stable/user-guide/dask.html) out, and [that](https://examples.dask.org/xarray.html?highlight=schedulers) "
   ]
  },
  {
   "cell_type": "markdown",
   "id": "2b30e5a9",
   "metadata": {},
   "source": [
    "## Partial parallelization of a computational graph with `dask.annotate`"
   ]
  },
  {
   "cell_type": "markdown",
   "id": "301564f4",
   "metadata": {},
   "source": [
    "annotate `h` to be serial only"
   ]
  },
  {
   "cell_type": "code",
   "execution_count": 26,
   "id": "13cef780",
   "metadata": {},
   "outputs": [],
   "source": [
    "\n",
    "def h_single(x): \n",
    "    with dask.config.set(scheduler='synchronous'):\n",
    "        hx =  h(x)\n",
    "    return hx.rechunk('auto') # re-split the data again to make downstream operations parallel\n",
    "\n",
    "h_delayed_serial = dask.delayed(h_single)"
   ]
  },
  {
   "cell_type": "markdown",
   "id": "888ab5f3",
   "metadata": {},
   "source": [
    "build up the graph again"
   ]
  },
  {
   "cell_type": "code",
   "execution_count": 27,
   "id": "2812b1e6",
   "metadata": {},
   "outputs": [],
   "source": [
    "input_placeholder = dask.delayed(identity, pure = True)(da.arange(2))\n",
    "fx = f_delayed(input_placeholder)\n",
    "gx = g_delayed(fx)\n",
    "hx = h_delayed_serial(gx) # README: use the serial version of h\n",
    "mx = m_delayed(hx)\n",
    "input_key = input_placeholder.key\n",
    "computation = mx \n",
    "graph = dict(computation.dask) "
   ]
  },
  {
   "cell_type": "markdown",
   "id": "ea99b0a9",
   "metadata": {},
   "source": [
    "execute the thing again with a parallel scheduler - check how the CPU load behaves."
   ]
  },
  {
   "cell_type": "code",
   "execution_count": 28,
   "id": "f4da065c",
   "metadata": {},
   "outputs": [
    {
     "data": {
      "text/plain": [
       "np.float64(-2.1029186884507904e-05)"
      ]
     },
     "execution_count": 28,
     "metadata": {},
     "output_type": "execute_result"
    }
   ],
   "source": [
    "dask.config.set(scheduler='processes')  # make operations parallel\n",
    "graph[input_key] = input_data\n",
    "result = dask.get(graph, computation.key).compute()  # Use processes scheduler\n",
    "result"
   ]
  },
  {
   "cell_type": "code",
   "execution_count": null,
   "id": "6b3c5b75",
   "metadata": {},
   "outputs": [],
   "source": []
  }
 ],
 "metadata": {
  "kernelspec": {
   "display_name": ".venv",
   "language": "python",
   "name": "python3"
  },
  "language_info": {
   "codemirror_mode": {
    "name": "ipython",
    "version": 3
   },
   "file_extension": ".py",
   "mimetype": "text/x-python",
   "name": "python",
   "nbconvert_exporter": "python",
   "pygments_lexer": "ipython3",
   "version": "3.13.3"
  }
 },
 "nbformat": 4,
 "nbformat_minor": 5
}
