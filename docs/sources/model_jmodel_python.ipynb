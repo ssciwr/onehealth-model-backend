{
 "cells": [
  {
   "cell_type": "markdown",
   "id": "0",
   "metadata": {},
   "source": [
    "# Example of how to use a model with `heiplanet-models`"
   ]
  },
  {
   "cell_type": "code",
   "execution_count": null,
   "id": "1",
   "metadata": {},
   "outputs": [],
   "source": [
    "import heiplanet_models as mb\n",
    "from pathlib import Path\n",
    "import xarray as xr\n",
    "import rioxarray as rioxr\n",
    "import numpy as np\n",
    "from copy import deepcopy\n",
    "from datetime import datetime\n",
    "import json"
   ]
  },
  {
   "cell_type": "markdown",
   "id": "2",
   "metadata": {},
   "source": [
    "## Set up the variables to run the model "
   ]
  },
  {
   "cell_type": "markdown",
   "id": "3",
   "metadata": {},
   "source": [
    "data is assumed to live in a directory: \n",
    "\n",
    "data/in\n",
    "\n",
    "relative to the base directory of the package"
   ]
  },
  {
   "cell_type": "code",
   "execution_count": null,
   "id": "4",
   "metadata": {},
   "outputs": [],
   "source": [
    "path = Path.cwd().parent.parent / \"data\" / \"in\"\n",
    "path"
   ]
  },
  {
   "cell_type": "code",
   "execution_count": null,
   "id": "5",
   "metadata": {},
   "outputs": [],
   "source": [
    "data_file = \"era5_data_2016-2017_allm_2t_tp_monthly_unicoords_adjlon_celsius_mm_05deg_trim_ts20250923-065745_hssc-laptop01.nc\""
   ]
  },
  {
   "cell_type": "code",
   "execution_count": null,
   "id": "6",
   "metadata": {},
   "outputs": [],
   "source": [
    "ro_file = \"R0_pip_stats.csv\""
   ]
  },
  {
   "cell_type": "markdown",
   "id": "7",
   "metadata": {},
   "source": [
    "## make output directory"
   ]
  },
  {
   "cell_type": "markdown",
   "id": "8",
   "metadata": {},
   "source": [
    "It helps to add the date and time to the output name to keep track of multiple runs"
   ]
  },
  {
   "cell_type": "code",
   "execution_count": null,
   "id": "9",
   "metadata": {},
   "outputs": [],
   "source": [
    "outpath = Path.cwd().parent.parent / \"data\" / \"out\" / datetime.today().strftime(\"%Y-%m-%d\")\n",
    "outpath.mkdir(parents=True, exist_ok=True)"
   ]
  },
  {
   "cell_type": "markdown",
   "id": "10",
   "metadata": {},
   "source": [
    "## define the model config "
   ]
  },
  {
   "cell_type": "markdown",
   "id": "11",
   "metadata": {},
   "source": [
    "do the following: \n",
    "- read the default config \n"
   ]
  },
  {
   "cell_type": "code",
   "execution_count": null,
   "id": "12",
   "metadata": {},
   "outputs": [],
   "source": [
    "with open(Path.cwd() / \"config_jmodel.json\", \"r\") as f:\n",
    "    config = json.load(f)"
   ]
  },
  {
   "cell_type": "code",
   "execution_count": null,
   "id": "13",
   "metadata": {},
   "outputs": [],
   "source": [
    "config"
   ]
  },
  {
   "cell_type": "markdown",
   "id": "14",
   "metadata": {},
   "source": [
    "update the config with anything you might want"
   ]
  },
  {
   "cell_type": "code",
   "execution_count": null,
   "id": "15",
   "metadata": {},
   "outputs": [],
   "source": [
    "config[\"graph\"][\"setup_modeldata\"][\"kwargs\"][\"input\"] = str(path / data_file)\n",
    "config[\"graph\"][\"setup_modeldata\"][\"kwargs\"][\"r0_path\"] = str(path / ro_file)\n",
    "config[\"graph\"][\"setup_modeldata\"][\"kwargs\"][\"output\"] = str(\n",
    "    outpath / f\"output_jmodel_europe.nc\"\n",
    ")\n"
   ]
  },
  {
   "cell_type": "markdown",
   "id": "16",
   "metadata": {},
   "source": [
    "store the config file to the output folder "
   ]
  },
  {
   "cell_type": "code",
   "execution_count": null,
   "id": "17",
   "metadata": {},
   "outputs": [],
   "source": [
    "\n",
    "with open(outpath / \"config_europe.json\", \"w\") as f:\n",
    "    json.dump(config, f)"
   ]
  },
  {
   "cell_type": "markdown",
   "id": "18",
   "metadata": {},
   "source": [
    "Make a computation_graph object"
   ]
  },
  {
   "cell_type": "code",
   "execution_count": null,
   "id": "19",
   "metadata": {},
   "outputs": [],
   "source": [
    "computation = mb.computation_graph.ComputationGraph(config)"
   ]
  },
  {
   "cell_type": "markdown",
   "id": "20",
   "metadata": {},
   "source": [
    "Visualize the computation graph to check the model is put together correctly. This is a good way to check whether the system is modeled in software the correct way. "
   ]
  },
  {
   "cell_type": "code",
   "execution_count": null,
   "id": "21",
   "metadata": {},
   "outputs": [],
   "source": [
    "computation.visualize(outpath / \"computation_jmodel.png\")"
   ]
  },
  {
   "cell_type": "markdown",
   "id": "22",
   "metadata": {},
   "source": [
    "## Run model \n",
    "We now execute the build computation graph, load the created data back in to inspect it. "
   ]
  },
  {
   "cell_type": "code",
   "execution_count": null,
   "id": "23",
   "metadata": {},
   "outputs": [],
   "source": [
    "computation.execute()"
   ]
  },
  {
   "cell_type": "code",
   "execution_count": null,
   "id": "24",
   "metadata": {},
   "outputs": [],
   "source": [
    "data = xr.open_dataset(path / data_file, chunks=None)\n",
    "data"
   ]
  },
  {
   "cell_type": "markdown",
   "id": "25",
   "metadata": {},
   "source": [
    "We can also access individual nodes in the computation graph by name, e.g., for debugging"
   ]
  },
  {
   "cell_type": "code",
   "execution_count": null,
   "id": "26",
   "metadata": {},
   "outputs": [],
   "source": [
    "input = computation.task_graph[\"read_input_data\"].compute()"
   ]
  },
  {
   "cell_type": "code",
   "execution_count": null,
   "id": "27",
   "metadata": {},
   "outputs": [],
   "source": [
    "input[\"t2m\"].sel(time=\"2016-08-01\").plot(cmap=\"viridis\")"
   ]
  },
  {
   "cell_type": "code",
   "execution_count": null,
   "id": "28",
   "metadata": {},
   "outputs": [],
   "source": [
    "input[\"t2m\"].mean(dim=\"time\").plot(cmap=\"viridis\")"
   ]
  },
  {
   "cell_type": "markdown",
   "id": "29",
   "metadata": {},
   "source": [
    "## Have a look at the results of the model run"
   ]
  },
  {
   "cell_type": "code",
   "execution_count": null,
   "id": "30",
   "metadata": {},
   "outputs": [],
   "source": [
    "data = xr.open_dataset(outpath / \"output_jmodel_europe.nc\", engine=\"rasterio\")"
   ]
  },
  {
   "cell_type": "code",
   "execution_count": null,
   "id": "31",
   "metadata": {},
   "outputs": [],
   "source": [
    "data"
   ]
  },
  {
   "cell_type": "code",
   "execution_count": null,
   "id": "32",
   "metadata": {},
   "outputs": [],
   "source": [
    "data[\"R0\"].mean(dim=\"time\").plot(cmap=\"viridis\")"
   ]
  },
  {
   "cell_type": "code",
   "execution_count": null,
   "id": "33",
   "metadata": {},
   "outputs": [],
   "source": [
    "data[\"R0\"].sel(time=\"2016-08-01\").plot(cmap=\"viridis\")"
   ]
  },
  {
   "cell_type": "markdown",
   "id": "34",
   "metadata": {},
   "source": [
    "## Run model in parallel mode on a global map"
   ]
  },
  {
   "cell_type": "code",
   "execution_count": null,
   "id": "35",
   "metadata": {},
   "outputs": [],
   "source": [
    "output = outpath / \"output_JModel_global.nc\"\n",
    "run_mode = \"parallelized\"\n",
    "grid_data_baseurl = None\n",
    "nuts_level = None\n",
    "resolution = None\n",
    "year = None\n"
   ]
  },
  {
   "cell_type": "markdown",
   "id": "36",
   "metadata": {},
   "source": [
    "When we pass `None` for the `nuts_level` and `resolution`, the global map data 'as is' will be used for the Jmodel"
   ]
  },
  {
   "cell_type": "markdown",
   "id": "37",
   "metadata": {},
   "source": [
    "update the config file"
   ]
  },
  {
   "cell_type": "code",
   "execution_count": null,
   "id": "38",
   "metadata": {},
   "outputs": [],
   "source": [
    "global_config = deepcopy(config)\n",
    "global_config[\"graph\"][\"setup_modeldata\"][\"kwargs\"][\"input\"] = str(path / data_file)\n",
    "global_config[\"graph\"][\"setup_modeldata\"][\"kwargs\"][\"r0_path\"] = str(path / ro_file)\n",
    "global_config[\"graph\"][\"setup_modeldata\"][\"kwargs\"][\"output\"] = str(output)\n",
    "global_config[\"graph\"][\"setup_modeldata\"][\"kwargs\"][\"run_mode\"] = run_mode\n",
    "global_config[\"graph\"][\"setup_modeldata\"][\"kwargs\"][\"grid_data_baseurl\"] = (\n",
    "    grid_data_baseurl\n",
    ")\n",
    "global_config[\"graph\"][\"setup_modeldata\"][\"kwargs\"][\"nuts_level\"] = nuts_level\n",
    "global_config[\"graph\"][\"setup_modeldata\"][\"kwargs\"][\"resolution\"] = resolution\n",
    "global_config[\"graph\"][\"setup_modeldata\"][\"kwargs\"][\"year\"] = year"
   ]
  },
  {
   "cell_type": "code",
   "execution_count": null,
   "id": "39",
   "metadata": {},
   "outputs": [],
   "source": [
    "global_config"
   ]
  },
  {
   "cell_type": "markdown",
   "id": "40",
   "metadata": {},
   "source": [
    "again, save the config with the data, build a computation graph and run it. We leave out the visualization here, because we have not changed anything in that regard. We made no new output directory, so the data will land in the same output we had before. "
   ]
  },
  {
   "cell_type": "code",
   "execution_count": null,
   "id": "41",
   "metadata": {},
   "outputs": [],
   "source": [
    "with open(outpath / \"config_global.json\", \"w\") as f:\n",
    "    json.dump(config, f)"
   ]
  },
  {
   "cell_type": "code",
   "execution_count": null,
   "id": "42",
   "metadata": {},
   "outputs": [],
   "source": [
    "computation_global = mb.computation_graph.ComputationGraph(global_config)"
   ]
  },
  {
   "cell_type": "code",
   "execution_count": null,
   "id": "43",
   "metadata": {},
   "outputs": [],
   "source": [
    "computation_global.execute()"
   ]
  },
  {
   "cell_type": "markdown",
   "id": "44",
   "metadata": {},
   "source": [
    "Check out the input map"
   ]
  },
  {
   "cell_type": "code",
   "execution_count": null,
   "id": "45",
   "metadata": {},
   "outputs": [],
   "source": [
    "input = computation_global.task_graph[\"read_input_data\"].compute()"
   ]
  },
  {
   "cell_type": "code",
   "execution_count": null,
   "id": "46",
   "metadata": {},
   "outputs": [],
   "source": [
    "input[\"t2m\"].mean(dim=\"time\").plot(cmap=\"viridis\")"
   ]
  },
  {
   "cell_type": "markdown",
   "id": "47",
   "metadata": {},
   "source": [
    "Look at the output data"
   ]
  },
  {
   "cell_type": "code",
   "execution_count": null,
   "id": "48",
   "metadata": {},
   "outputs": [],
   "source": [
    "data = xr.open_dataset(output, engine=\"rasterio\", chunks=None).compute()"
   ]
  },
  {
   "cell_type": "code",
   "execution_count": null,
   "id": "49",
   "metadata": {},
   "outputs": [],
   "source": [
    "data[\"R0\"].mean(dim=\"time\").plot(cmap=\"viridis\")"
   ]
  },
  {
   "cell_type": "code",
   "execution_count": null,
   "id": "50",
   "metadata": {},
   "outputs": [],
   "source": [
    "data[\"R0\"].sel(time=\"2016-08-01\").plot(cmap=\"viridis\")"
   ]
  },
  {
   "cell_type": "markdown",
   "id": "51",
   "metadata": {},
   "source": [
    "## Concluding remarks\n",
    "In this notebook, the three steps of using a `heiplanet` model have been shown: \n",
    "- create a configuration dictionary and modify it in accordance with your aims\n",
    "- instantiate a computation graph and inspect it visually if desired \n",
    "- run the computation graph with the desired scheduler.\n",
    "\n",
    "\n",
    "This notebook also shows some of the recommended best practices for working with `heiplanet-models`. In particular: \n",
    "\n",
    "- save the configuration file alongside the data \n",
    "- separation of concerns between configuraion and code \n",
    "- how to use visualization to verify model composition\n",
    "\n",
    "In the future, we aim to automate much of the configuration saving and updating."
   ]
  },
  {
   "cell_type": "code",
   "execution_count": null,
   "id": "52",
   "metadata": {},
   "outputs": [],
   "source": []
  }
 ],
 "metadata": {
  "kernelspec": {
   "display_name": "model-be",
   "language": "python",
   "name": "python3"
  },
  "language_info": {
   "codemirror_mode": {
    "name": "ipython",
    "version": 3
   },
   "file_extension": ".py",
   "mimetype": "text/x-python",
   "name": "python",
   "nbconvert_exporter": "python",
   "pygments_lexer": "ipython3",
   "version": "3.11.11"
  }
 },
 "nbformat": 4,
 "nbformat_minor": 5
}
